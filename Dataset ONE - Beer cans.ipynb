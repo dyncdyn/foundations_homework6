{
 "cells": [
  {
   "cell_type": "markdown",
   "metadata": {
    "collapsed": true
   },
   "source": [
    "# Homework 6, Part One: Lots and lots of questions about beer"
   ]
  },
  {
   "cell_type": "markdown",
   "metadata": {},
   "source": [
    "### Do your importing and your setup"
   ]
  },
  {
   "cell_type": "code",
   "execution_count": 1,
   "metadata": {},
   "outputs": [],
   "source": [
    "import pandas as pd\n",
    "import numpy as np\n",
    "\n",
    "%matplotlib inline"
   ]
  },
  {
   "cell_type": "markdown",
   "metadata": {},
   "source": [
    "## Read in the file `craftcans.csv`, and look at the first first rows"
   ]
  },
  {
   "cell_type": "code",
   "execution_count": 2,
   "metadata": {},
   "outputs": [
    {
     "data": {
      "text/html": [
       "<div>\n",
       "<style scoped>\n",
       "    .dataframe tbody tr th:only-of-type {\n",
       "        vertical-align: middle;\n",
       "    }\n",
       "\n",
       "    .dataframe tbody tr th {\n",
       "        vertical-align: top;\n",
       "    }\n",
       "\n",
       "    .dataframe thead th {\n",
       "        text-align: right;\n",
       "    }\n",
       "</style>\n",
       "<table border=\"1\" class=\"dataframe\">\n",
       "  <thead>\n",
       "    <tr style=\"text-align: right;\">\n",
       "      <th></th>\n",
       "      <th>Beer</th>\n",
       "      <th>Brewery</th>\n",
       "      <th>Location</th>\n",
       "      <th>Style</th>\n",
       "      <th>Size</th>\n",
       "      <th>ABV</th>\n",
       "      <th>IBUs</th>\n",
       "    </tr>\n",
       "  </thead>\n",
       "  <tbody>\n",
       "    <tr>\n",
       "      <th>0</th>\n",
       "      <td>Get Together</td>\n",
       "      <td>NorthGate Brewing</td>\n",
       "      <td>Minneapolis, MN</td>\n",
       "      <td>American IPA</td>\n",
       "      <td>16 oz.</td>\n",
       "      <td>4.50%</td>\n",
       "      <td>50.0</td>\n",
       "    </tr>\n",
       "    <tr>\n",
       "      <th>1</th>\n",
       "      <td>Maggie's Leap</td>\n",
       "      <td>NorthGate Brewing</td>\n",
       "      <td>Minneapolis, MN</td>\n",
       "      <td>Milk / Sweet Stout</td>\n",
       "      <td>16 oz.</td>\n",
       "      <td>4.90%</td>\n",
       "      <td>26.0</td>\n",
       "    </tr>\n",
       "  </tbody>\n",
       "</table>\n",
       "</div>"
      ],
      "text/plain": [
       "            Beer            Brewery         Location               Style  \\\n",
       "0   Get Together  NorthGate Brewing  Minneapolis, MN        American IPA   \n",
       "1  Maggie's Leap  NorthGate Brewing  Minneapolis, MN  Milk / Sweet Stout   \n",
       "\n",
       "     Size    ABV  IBUs  \n",
       "0  16 oz.  4.50%  50.0  \n",
       "1  16 oz.  4.90%  26.0  "
      ]
     },
     "execution_count": 2,
     "metadata": {},
     "output_type": "execute_result"
    }
   ],
   "source": [
    "df = pd.read_csv('craftcans.csv', na_values = ['Does not apply'])\n",
    "df.head(2)"
   ]
  },
  {
   "cell_type": "markdown",
   "metadata": {},
   "source": [
    "## How many rows do you have in the data? What are the column types?"
   ]
  },
  {
   "cell_type": "code",
   "execution_count": 3,
   "metadata": {},
   "outputs": [
    {
     "data": {
      "text/plain": [
       "(2416, 7)"
      ]
     },
     "execution_count": 3,
     "metadata": {},
     "output_type": "execute_result"
    }
   ],
   "source": [
    "df.shape"
   ]
  },
  {
   "cell_type": "code",
   "execution_count": 4,
   "metadata": {},
   "outputs": [
    {
     "data": {
      "text/plain": [
       "Beer         object\n",
       "Brewery      object\n",
       "Location     object\n",
       "Style        object\n",
       "Size         object\n",
       "ABV          object\n",
       "IBUs        float64\n",
       "dtype: object"
      ]
     },
     "execution_count": 4,
     "metadata": {},
     "output_type": "execute_result"
    }
   ],
   "source": [
    "df.dtypes"
   ]
  },
  {
   "cell_type": "markdown",
   "metadata": {},
   "source": [
    "# Checking out our alcohol"
   ]
  },
  {
   "cell_type": "markdown",
   "metadata": {},
   "source": [
    "## What are the top 10 producers of cans of beer?"
   ]
  },
  {
   "cell_type": "code",
   "execution_count": 5,
   "metadata": {},
   "outputs": [
    {
     "data": {
      "text/plain": [
       "Brewery Vivant                62\n",
       "Oskar Blues Brewery           46\n",
       "Sun King Brewing Company      38\n",
       "Cigar City Brewing Company    25\n",
       "Sixpoint Craft Ales           24\n",
       "Hopworks Urban Brewery        23\n",
       "Stevens Point Brewery         22\n",
       "21st Amendment Brewery        20\n",
       "Great Crescent Brewery        20\n",
       "Bonfire Brewing Company       19\n",
       "Name: Brewery, dtype: int64"
      ]
     },
     "execution_count": 5,
     "metadata": {},
     "output_type": "execute_result"
    }
   ],
   "source": [
    "df.Brewery.value_counts().head(10)"
   ]
  },
  {
   "cell_type": "markdown",
   "metadata": {},
   "source": [
    "## What is the most common ABV? (alcohol by volume)"
   ]
  },
  {
   "cell_type": "code",
   "execution_count": 6,
   "metadata": {},
   "outputs": [
    {
     "data": {
      "text/plain": [
       "5.00%    215\n",
       "Name: ABV, dtype: int64"
      ]
     },
     "execution_count": 6,
     "metadata": {},
     "output_type": "execute_result"
    }
   ],
   "source": [
    "df.ABV.value_counts().head(1)"
   ]
  },
  {
   "cell_type": "markdown",
   "metadata": {},
   "source": [
    "## Oh, weird, ABV isn't a number. Convert it to a number for me, please.\n",
    "\n",
    "It's going to take a few steps!\n",
    "\n",
    "### First, let's just look at the ABV column by itself"
   ]
  },
  {
   "cell_type": "code",
   "execution_count": 7,
   "metadata": {},
   "outputs": [
    {
     "data": {
      "text/plain": [
       "0        4.50%\n",
       "1        4.90%\n",
       "2        4.80%\n",
       "3        6.00%\n",
       "4        6.00%\n",
       "5        5.60%\n",
       "6        8.00%\n",
       "7       12.50%\n",
       "8        7.70%\n",
       "9        4.20%\n",
       "10       5.00%\n",
       "11       6.60%\n",
       "12       4.00%\n",
       "13       5.50%\n",
       "14       7.60%\n",
       "15       5.10%\n",
       "16       6.50%\n",
       "17       6.00%\n",
       "18       5.00%\n",
       "19       5.20%\n",
       "20       4.80%\n",
       "21       7.20%\n",
       "22       6.70%\n",
       "23       4.90%\n",
       "24       8.00%\n",
       "25       7.50%\n",
       "26       6.00%\n",
       "27       8.00%\n",
       "28       6.30%\n",
       "29       5.80%\n",
       "         ...  \n",
       "2386     5.70%\n",
       "2387     6.20%\n",
       "2388     4.90%\n",
       "2389     9.90%\n",
       "2390     6.20%\n",
       "2391     5.80%\n",
       "2392     5.20%\n",
       "2393     8.50%\n",
       "2394     7.00%\n",
       "2395     5.30%\n",
       "2396     5.60%\n",
       "2397     4.90%\n",
       "2398     5.10%\n",
       "2399     4.00%\n",
       "2400     5.50%\n",
       "2401     5.10%\n",
       "2402     5.10%\n",
       "2403     9.70%\n",
       "2404     5.10%\n",
       "2405     6.70%\n",
       "2406     6.20%\n",
       "2407     8.30%\n",
       "2408     7.00%\n",
       "2409     4.90%\n",
       "2410     9.90%\n",
       "2411     5.30%\n",
       "2412     9.90%\n",
       "2413     8.00%\n",
       "2414     8.70%\n",
       "2415     6.50%\n",
       "Name: ABV, Length: 2416, dtype: object"
      ]
     },
     "execution_count": 7,
     "metadata": {},
     "output_type": "execute_result"
    }
   ],
   "source": [
    "df.ABV"
   ]
  },
  {
   "cell_type": "markdown",
   "metadata": {},
   "source": [
    "### Hm, `%` isn't part of  a number. Let's remove it.\n",
    "\n",
    "When you're confident you got it right, save the results back into the `ABV` column.\n",
    "\n",
    "- *Tip: In programming the easiest way to remove something is to *replacing it with nothing*.\n",
    "- *Tip: \"nothing\" might seem like `NaN` sinc we talked about it a lot in class, but in this case it isn't! It's just an empty string, like \"\"*\n",
    "- *Tip: `.replace` is used for replacing ENTIRE cells, while `.str.replace` is useful for replacing PARTS of cells (see my New York example)*"
   ]
  },
  {
   "cell_type": "code",
   "execution_count": 8,
   "metadata": {},
   "outputs": [
    {
     "data": {
      "text/plain": [
       "0        4.50\n",
       "1        4.90\n",
       "2        4.80\n",
       "3        6.00\n",
       "4        6.00\n",
       "5        5.60\n",
       "6        8.00\n",
       "7       12.50\n",
       "8        7.70\n",
       "9        4.20\n",
       "10       5.00\n",
       "11       6.60\n",
       "12       4.00\n",
       "13       5.50\n",
       "14       7.60\n",
       "15       5.10\n",
       "16       6.50\n",
       "17       6.00\n",
       "18       5.00\n",
       "19       5.20\n",
       "20       4.80\n",
       "21       7.20\n",
       "22       6.70\n",
       "23       4.90\n",
       "24       8.00\n",
       "25       7.50\n",
       "26       6.00\n",
       "27       8.00\n",
       "28       6.30\n",
       "29       5.80\n",
       "        ...  \n",
       "2386     5.70\n",
       "2387     6.20\n",
       "2388     4.90\n",
       "2389     9.90\n",
       "2390     6.20\n",
       "2391     5.80\n",
       "2392     5.20\n",
       "2393     8.50\n",
       "2394     7.00\n",
       "2395     5.30\n",
       "2396     5.60\n",
       "2397     4.90\n",
       "2398     5.10\n",
       "2399     4.00\n",
       "2400     5.50\n",
       "2401     5.10\n",
       "2402     5.10\n",
       "2403     9.70\n",
       "2404     5.10\n",
       "2405     6.70\n",
       "2406     6.20\n",
       "2407     8.30\n",
       "2408     7.00\n",
       "2409     4.90\n",
       "2410     9.90\n",
       "2411     5.30\n",
       "2412     9.90\n",
       "2413     8.00\n",
       "2414     8.70\n",
       "2415     6.50\n",
       "Name: ABV, Length: 2416, dtype: object"
      ]
     },
     "execution_count": 8,
     "metadata": {},
     "output_type": "execute_result"
    }
   ],
   "source": [
    "df['ABV'] = df.ABV.str.replace('%','')\n",
    "df.ABV"
   ]
  },
  {
   "cell_type": "markdown",
   "metadata": {},
   "source": [
    "### Now let's turn `ABV` into a numeric data type\n",
    "\n",
    "Save the results back into the `ABV` column (again), and then check `df.dtypes` to make sure it worked.\n",
    "\n",
    "- *Tip: We used `.astype(int)` during class, but this has a decimal in it...*"
   ]
  },
  {
   "cell_type": "code",
   "execution_count": 9,
   "metadata": {},
   "outputs": [
    {
     "data": {
      "text/plain": [
       "0        4.5\n",
       "1        4.9\n",
       "2        4.8\n",
       "3        6.0\n",
       "4        6.0\n",
       "5        5.6\n",
       "6        8.0\n",
       "7       12.5\n",
       "8        7.7\n",
       "9        4.2\n",
       "10       5.0\n",
       "11       6.6\n",
       "12       4.0\n",
       "13       5.5\n",
       "14       7.6\n",
       "15       5.1\n",
       "16       6.5\n",
       "17       6.0\n",
       "18       5.0\n",
       "19       5.2\n",
       "20       4.8\n",
       "21       7.2\n",
       "22       6.7\n",
       "23       4.9\n",
       "24       8.0\n",
       "25       7.5\n",
       "26       6.0\n",
       "27       8.0\n",
       "28       6.3\n",
       "29       5.8\n",
       "        ... \n",
       "2386     5.7\n",
       "2387     6.2\n",
       "2388     4.9\n",
       "2389     9.9\n",
       "2390     6.2\n",
       "2391     5.8\n",
       "2392     5.2\n",
       "2393     8.5\n",
       "2394     7.0\n",
       "2395     5.3\n",
       "2396     5.6\n",
       "2397     4.9\n",
       "2398     5.1\n",
       "2399     4.0\n",
       "2400     5.5\n",
       "2401     5.1\n",
       "2402     5.1\n",
       "2403     9.7\n",
       "2404     5.1\n",
       "2405     6.7\n",
       "2406     6.2\n",
       "2407     8.3\n",
       "2408     7.0\n",
       "2409     4.9\n",
       "2410     9.9\n",
       "2411     5.3\n",
       "2412     9.9\n",
       "2413     8.0\n",
       "2414     8.7\n",
       "2415     6.5\n",
       "Name: ABV, Length: 2416, dtype: float64"
      ]
     },
     "execution_count": 9,
     "metadata": {},
     "output_type": "execute_result"
    }
   ],
   "source": [
    "df['ABV'] = df.ABV.astype(float)\n",
    "df.ABV"
   ]
  },
  {
   "cell_type": "markdown",
   "metadata": {},
   "source": [
    "## What's the ABV of the average beer look like?\n",
    "\n",
    "### Show me in two different ways: one command to show the `median`/`mean`/etc, and secondly show me a chart"
   ]
  },
  {
   "cell_type": "code",
   "execution_count": 10,
   "metadata": {},
   "outputs": [
    {
     "data": {
      "text/plain": [
       "5.977342419080068"
      ]
     },
     "execution_count": 10,
     "metadata": {},
     "output_type": "execute_result"
    }
   ],
   "source": [
    "df.ABV.mean()"
   ]
  },
  {
   "cell_type": "code",
   "execution_count": 11,
   "metadata": {},
   "outputs": [
    {
     "data": {
      "text/plain": [
       "<matplotlib.axes._subplots.AxesSubplot at 0x119d964a8>"
      ]
     },
     "execution_count": 11,
     "metadata": {},
     "output_type": "execute_result"
    },
    {
     "data": {
      "image/png": "[encoded data removed]",
      "text/plain": [
       "<Figure size 432x288 with 1 Axes>"
      ]
     },
     "metadata": {
      "needs_background": "light"
     },
     "output_type": "display_data"
    }
   ],
   "source": [
    "df.ABV.hist()"
   ]
  },
  {
   "cell_type": "markdown",
   "metadata": {},
   "source": [
    "### We don't have ABV for all of the beers, how many are we missing them from?\n",
    "\n",
    "- *Tip: You can use `isnull()` or `notnull()` to see where a column is missing data.*\n",
    "- *Tip: You just want to count how many `True`s and `False`s there are.*\n",
    "- *Tip: It's a weird trick involving something we usually use to count things in a column*"
   ]
  },
  {
   "cell_type": "code",
   "execution_count": 12,
   "metadata": {},
   "outputs": [
    {
     "data": {
      "text/plain": [
       "False    2348\n",
       "True       68\n",
       "Name: ABV, dtype: int64"
      ]
     },
     "execution_count": 12,
     "metadata": {},
     "output_type": "execute_result"
    }
   ],
   "source": [
    "df.ABV.isnull().value_counts()"
   ]
  },
  {
   "cell_type": "markdown",
   "metadata": {},
   "source": [
    "# Looking at location\n",
    "\n",
    "Brooklyn used to produce 80% of the country's beer! Let's see if it's still true."
   ]
  },
  {
   "cell_type": "markdown",
   "metadata": {},
   "source": [
    "## What are the top 10 cities in the US for canned craft beer?"
   ]
  },
  {
   "cell_type": "code",
   "execution_count": 13,
   "metadata": {},
   "outputs": [
    {
     "data": {
      "text/plain": [
       "Grand Rapids, MI    66\n",
       "Chicago, IL         55\n",
       "Portland, OR        52\n",
       "Indianapolis, IN    43\n",
       "San Diego, CA       42\n",
       "Boulder, CO         41\n",
       "Denver, CO          40\n",
       "Brooklyn, NY        38\n",
       "Seattle, WA         35\n",
       "Longmont, CO        33\n",
       "Name: Location, dtype: int64"
      ]
     },
     "execution_count": 13,
     "metadata": {},
     "output_type": "execute_result"
    }
   ],
   "source": [
    "df.Location.value_counts().head(10)"
   ]
  },
  {
   "cell_type": "markdown",
   "metadata": {},
   "source": [
    "## List all of the beer from Brooklyn, NY"
   ]
  },
  {
   "cell_type": "code",
   "execution_count": 14,
   "metadata": {},
   "outputs": [
    {
     "data": {
      "text/plain": [
       "115                              4Beans\n",
       "210                              Jammer\n",
       "246                             Abigale\n",
       "404                       Nomader Weiss\n",
       "421                                 Rad\n",
       "439                        Molotov Lite\n",
       "588                             Bengali\n",
       "713                       Sensi Harvest\n",
       "969                              Hi-Res\n",
       "987               KelSo Nut Brown Lager\n",
       "1057                      Global Warmer\n",
       "1074                 Autumnation (2013)\n",
       "1093               KelSo India Pale Ale\n",
       "1267                          The Crisp\n",
       "1268                       Sweet Action\n",
       "1269                      Righteous Ale\n",
       "1270                      Bengali Tiger\n",
       "1305                      KelSo Pilsner\n",
       "1365    Hipster Ale (Two Roads Brewing)\n",
       "1366                        Bikini Beer\n",
       "1373                East India Pale Ale\n",
       "1624                             3Beans\n",
       "1836                         Brownstone\n",
       "1857                Brooklyn Summer Ale\n",
       "1962    Hipster Ale (Westbrook Brewing)\n",
       "1970                             Apollo\n",
       "1971                          Harbinger\n",
       "1972                              Resin\n",
       "2027                East India Pale Ale\n",
       "2062                             Diesel\n",
       "2074       Autumnation (2011-12) (2011)\n",
       "2140                   The Crisp (2011)\n",
       "2141                Sweet Action (2011)\n",
       "2142               Righteous Ale (2011)\n",
       "2143               Bengali Tiger (2011)\n",
       "2219         Brooklyn Summer Ale (2011)\n",
       "2350            Brooklyn Lager (16 oz.)\n",
       "2351            Brooklyn Lager (12 oz.)\n",
       "Name: Beer, dtype: object"
      ]
     },
     "execution_count": 14,
     "metadata": {},
     "output_type": "execute_result"
    }
   ],
   "source": [
    "df[df.Location == 'Brooklyn, NY'].Beer"
   ]
  },
  {
   "cell_type": "markdown",
   "metadata": {},
   "source": [
    "## What brewery in Brooklyn puts out the most cans of beer?"
   ]
  },
  {
   "cell_type": "code",
   "execution_count": 15,
   "metadata": {},
   "outputs": [
    {
     "data": {
      "text/plain": [
       "Sixpoint Craft Ales    24\n",
       "Name: Brewery, dtype: int64"
      ]
     },
     "execution_count": 15,
     "metadata": {},
     "output_type": "execute_result"
    }
   ],
   "source": [
    "df[df.Location == 'Brooklyn, NY'].Brewery.value_counts().head(1)"
   ]
  },
  {
   "cell_type": "markdown",
   "metadata": {},
   "source": [
    "## What are the five most popular styles of beer produced by Sixpoint?"
   ]
  },
  {
   "cell_type": "code",
   "execution_count": 16,
   "metadata": {},
   "outputs": [
    {
     "data": {
      "text/plain": [
       "American IPA                      4\n",
       "American Double / Imperial IPA    2\n",
       "German Pilsener                   2\n",
       "Rye Beer                          2\n",
       "Baltic Porter                     2\n",
       "Name: Style, dtype: int64"
      ]
     },
     "execution_count": 16,
     "metadata": {},
     "output_type": "execute_result"
    }
   ],
   "source": [
    "df[df.Brewery == 'Sixpoint Craft Ales'].Style.value_counts().head(5)"
   ]
  },
  {
   "cell_type": "markdown",
   "metadata": {},
   "source": [
    "## List all of the breweries in New York state.\n",
    "\n",
    "- *Tip: We want to match *part* of the `Location` column, but not all of it.*\n",
    "- *Tip: Watch out for `NaN` values! You might be close, but you'll need to pass an extra parameter to make it work without an error.*"
   ]
  },
  {
   "cell_type": "code",
   "execution_count": 17,
   "metadata": {},
   "outputs": [
    {
     "data": {
      "text/html": [
       "<div>\n",
       "<style scoped>\n",
       "    .dataframe tbody tr th:only-of-type {\n",
       "        vertical-align: middle;\n",
       "    }\n",
       "\n",
       "    .dataframe tbody tr th {\n",
       "        vertical-align: top;\n",
       "    }\n",
       "\n",
       "    .dataframe thead th {\n",
       "        text-align: right;\n",
       "    }\n",
       "</style>\n",
       "<table border=\"1\" class=\"dataframe\">\n",
       "  <thead>\n",
       "    <tr style=\"text-align: right;\">\n",
       "      <th></th>\n",
       "      <th>Beer</th>\n",
       "      <th>Brewery</th>\n",
       "      <th>Location</th>\n",
       "      <th>Style</th>\n",
       "      <th>Size</th>\n",
       "      <th>ABV</th>\n",
       "      <th>IBUs</th>\n",
       "    </tr>\n",
       "  </thead>\n",
       "  <tbody>\n",
       "    <tr>\n",
       "      <th>115</th>\n",
       "      <td>4Beans</td>\n",
       "      <td>Sixpoint Craft Ales</td>\n",
       "      <td>Brooklyn, NY</td>\n",
       "      <td>Baltic Porter</td>\n",
       "      <td>12 oz.</td>\n",
       "      <td>10.0</td>\n",
       "      <td>52.0</td>\n",
       "    </tr>\n",
       "    <tr>\n",
       "      <th>210</th>\n",
       "      <td>Jammer</td>\n",
       "      <td>Sixpoint Craft Ales</td>\n",
       "      <td>Brooklyn, NY</td>\n",
       "      <td>Gose</td>\n",
       "      <td>12 oz. Slimline</td>\n",
       "      <td>4.2</td>\n",
       "      <td>16.0</td>\n",
       "    </tr>\n",
       "    <tr>\n",
       "      <th>246</th>\n",
       "      <td>Abigale</td>\n",
       "      <td>Sixpoint Craft Ales</td>\n",
       "      <td>Brooklyn, NY</td>\n",
       "      <td>Belgian Pale Ale</td>\n",
       "      <td>12 oz.</td>\n",
       "      <td>8.0</td>\n",
       "      <td>NaN</td>\n",
       "    </tr>\n",
       "    <tr>\n",
       "      <th>404</th>\n",
       "      <td>Nomader Weiss</td>\n",
       "      <td>Evil Twin Brewing</td>\n",
       "      <td>Brooklyn, NY</td>\n",
       "      <td>Berliner Weissbier</td>\n",
       "      <td>12 oz.</td>\n",
       "      <td>4.0</td>\n",
       "      <td>NaN</td>\n",
       "    </tr>\n",
       "    <tr>\n",
       "      <th>421</th>\n",
       "      <td>Rad</td>\n",
       "      <td>Sixpoint Craft Ales</td>\n",
       "      <td>Brooklyn, NY</td>\n",
       "      <td>Fruit / Vegetable Beer</td>\n",
       "      <td>16 oz.</td>\n",
       "      <td>3.2</td>\n",
       "      <td>7.0</td>\n",
       "    </tr>\n",
       "    <tr>\n",
       "      <th>439</th>\n",
       "      <td>Molotov Lite</td>\n",
       "      <td>Evil Twin Brewing</td>\n",
       "      <td>Brooklyn, NY</td>\n",
       "      <td>American Double / Imperial IPA</td>\n",
       "      <td>16 oz.</td>\n",
       "      <td>8.5</td>\n",
       "      <td>NaN</td>\n",
       "    </tr>\n",
       "    <tr>\n",
       "      <th>588</th>\n",
       "      <td>Bengali</td>\n",
       "      <td>Sixpoint Craft Ales</td>\n",
       "      <td>Brooklyn, NY</td>\n",
       "      <td>American IPA</td>\n",
       "      <td>24 oz. \"Silo Can\"</td>\n",
       "      <td>6.5</td>\n",
       "      <td>62.0</td>\n",
       "    </tr>\n",
       "    <tr>\n",
       "      <th>598</th>\n",
       "      <td>8 Barrel</td>\n",
       "      <td>Chatham Brewing</td>\n",
       "      <td>Chatham, NY</td>\n",
       "      <td>American Strong Ale</td>\n",
       "      <td>16 oz.</td>\n",
       "      <td>8.0</td>\n",
       "      <td>69.0</td>\n",
       "    </tr>\n",
       "    <tr>\n",
       "      <th>599</th>\n",
       "      <td>Oktoberfest</td>\n",
       "      <td>Chatham Brewing</td>\n",
       "      <td>Chatham, NY</td>\n",
       "      <td>Märzen / Oktoberfest</td>\n",
       "      <td>16 oz.</td>\n",
       "      <td>5.5</td>\n",
       "      <td>40.0</td>\n",
       "    </tr>\n",
       "    <tr>\n",
       "      <th>628</th>\n",
       "      <td>Cream Ale</td>\n",
       "      <td>Newburgh Brewing Company</td>\n",
       "      <td>Newburgh, NY</td>\n",
       "      <td>Cream Ale</td>\n",
       "      <td>12 oz.</td>\n",
       "      <td>4.2</td>\n",
       "      <td>35.0</td>\n",
       "    </tr>\n",
       "    <tr>\n",
       "      <th>653</th>\n",
       "      <td>Montauk Light</td>\n",
       "      <td>Southampton Publick House</td>\n",
       "      <td>Southampton, NY</td>\n",
       "      <td>Light Lager</td>\n",
       "      <td>12 oz.</td>\n",
       "      <td>3.5</td>\n",
       "      <td>NaN</td>\n",
       "    </tr>\n",
       "    <tr>\n",
       "      <th>713</th>\n",
       "      <td>Sensi Harvest</td>\n",
       "      <td>Sixpoint Craft Ales</td>\n",
       "      <td>Brooklyn, NY</td>\n",
       "      <td>American Pale Ale (APA)</td>\n",
       "      <td>12 oz.</td>\n",
       "      <td>4.7</td>\n",
       "      <td>50.0</td>\n",
       "    </tr>\n",
       "    <tr>\n",
       "      <th>768</th>\n",
       "      <td>Montauk Summer Ale</td>\n",
       "      <td>Montauk Brewing Company</td>\n",
       "      <td>Montauk, NY</td>\n",
       "      <td>American Blonde Ale</td>\n",
       "      <td>12 oz.</td>\n",
       "      <td>5.6</td>\n",
       "      <td>28.0</td>\n",
       "    </tr>\n",
       "    <tr>\n",
       "      <th>769</th>\n",
       "      <td>Driftwood Ale</td>\n",
       "      <td>Montauk Brewing Company</td>\n",
       "      <td>Montauk, NY</td>\n",
       "      <td>Extra Special / Strong Bitter (ESB)</td>\n",
       "      <td>12 oz.</td>\n",
       "      <td>6.0</td>\n",
       "      <td>49.0</td>\n",
       "    </tr>\n",
       "    <tr>\n",
       "      <th>837</th>\n",
       "      <td>Our Legacy IPA</td>\n",
       "      <td>Matt Brewing Company</td>\n",
       "      <td>Utica, NY</td>\n",
       "      <td>American IPA</td>\n",
       "      <td>12 oz.</td>\n",
       "      <td>6.5</td>\n",
       "      <td>60.0</td>\n",
       "    </tr>\n",
       "    <tr>\n",
       "      <th>918</th>\n",
       "      <td>Bronx Summer Pale Ale</td>\n",
       "      <td>The Bronx Brewery</td>\n",
       "      <td>Bronx, NY</td>\n",
       "      <td>American Pale Ale (APA)</td>\n",
       "      <td>16 oz.</td>\n",
       "      <td>5.2</td>\n",
       "      <td>16.0</td>\n",
       "    </tr>\n",
       "    <tr>\n",
       "      <th>919</th>\n",
       "      <td>Bronx Black Pale Ale</td>\n",
       "      <td>The Bronx Brewery</td>\n",
       "      <td>Bronx, NY</td>\n",
       "      <td>American Black Ale</td>\n",
       "      <td>16 oz.</td>\n",
       "      <td>5.7</td>\n",
       "      <td>46.0</td>\n",
       "    </tr>\n",
       "    <tr>\n",
       "      <th>969</th>\n",
       "      <td>Hi-Res</td>\n",
       "      <td>Sixpoint Craft Ales</td>\n",
       "      <td>Brooklyn, NY</td>\n",
       "      <td>American Double / Imperial IPA</td>\n",
       "      <td>12 oz.</td>\n",
       "      <td>9.9</td>\n",
       "      <td>111.0</td>\n",
       "    </tr>\n",
       "    <tr>\n",
       "      <th>987</th>\n",
       "      <td>KelSo Nut Brown Lager</td>\n",
       "      <td>KelSo Beer Company</td>\n",
       "      <td>Brooklyn, NY</td>\n",
       "      <td>Euro Dark Lager</td>\n",
       "      <td>12 oz.</td>\n",
       "      <td>5.7</td>\n",
       "      <td>19.0</td>\n",
       "    </tr>\n",
       "    <tr>\n",
       "      <th>1057</th>\n",
       "      <td>Global Warmer</td>\n",
       "      <td>Sixpoint Craft Ales</td>\n",
       "      <td>Brooklyn, NY</td>\n",
       "      <td>American Strong Ale</td>\n",
       "      <td>12 oz.</td>\n",
       "      <td>7.0</td>\n",
       "      <td>70.0</td>\n",
       "    </tr>\n",
       "    <tr>\n",
       "      <th>1074</th>\n",
       "      <td>Autumnation (2013)</td>\n",
       "      <td>Sixpoint Craft Ales</td>\n",
       "      <td>Brooklyn, NY</td>\n",
       "      <td>American IPA</td>\n",
       "      <td>16 oz.</td>\n",
       "      <td>6.7</td>\n",
       "      <td>74.0</td>\n",
       "    </tr>\n",
       "    <tr>\n",
       "      <th>1093</th>\n",
       "      <td>KelSo India Pale Ale</td>\n",
       "      <td>KelSo Beer Company</td>\n",
       "      <td>Brooklyn, NY</td>\n",
       "      <td>American IPA</td>\n",
       "      <td>12 oz.</td>\n",
       "      <td>6.0</td>\n",
       "      <td>64.0</td>\n",
       "    </tr>\n",
       "    <tr>\n",
       "      <th>1267</th>\n",
       "      <td>The Crisp</td>\n",
       "      <td>Sixpoint Craft Ales</td>\n",
       "      <td>Brooklyn, NY</td>\n",
       "      <td>German Pilsener</td>\n",
       "      <td>16 oz.</td>\n",
       "      <td>5.4</td>\n",
       "      <td>42.0</td>\n",
       "    </tr>\n",
       "    <tr>\n",
       "      <th>1268</th>\n",
       "      <td>Sweet Action</td>\n",
       "      <td>Sixpoint Craft Ales</td>\n",
       "      <td>Brooklyn, NY</td>\n",
       "      <td>Cream Ale</td>\n",
       "      <td>16 oz.</td>\n",
       "      <td>5.2</td>\n",
       "      <td>34.0</td>\n",
       "    </tr>\n",
       "    <tr>\n",
       "      <th>1269</th>\n",
       "      <td>Righteous Ale</td>\n",
       "      <td>Sixpoint Craft Ales</td>\n",
       "      <td>Brooklyn, NY</td>\n",
       "      <td>Rye Beer</td>\n",
       "      <td>16 oz.</td>\n",
       "      <td>6.3</td>\n",
       "      <td>57.0</td>\n",
       "    </tr>\n",
       "    <tr>\n",
       "      <th>1270</th>\n",
       "      <td>Bengali Tiger</td>\n",
       "      <td>Sixpoint Craft Ales</td>\n",
       "      <td>Brooklyn, NY</td>\n",
       "      <td>American IPA</td>\n",
       "      <td>16 oz.</td>\n",
       "      <td>6.4</td>\n",
       "      <td>62.0</td>\n",
       "    </tr>\n",
       "    <tr>\n",
       "      <th>1295</th>\n",
       "      <td>Saranac Shandy</td>\n",
       "      <td>Matt Brewing Company</td>\n",
       "      <td>Utica, NY</td>\n",
       "      <td>Shandy</td>\n",
       "      <td>12 oz.</td>\n",
       "      <td>4.2</td>\n",
       "      <td>NaN</td>\n",
       "    </tr>\n",
       "    <tr>\n",
       "      <th>1305</th>\n",
       "      <td>KelSo Pilsner</td>\n",
       "      <td>KelSo Beer Company</td>\n",
       "      <td>Brooklyn, NY</td>\n",
       "      <td>Czech Pilsener</td>\n",
       "      <td>12 oz.</td>\n",
       "      <td>5.5</td>\n",
       "      <td>23.0</td>\n",
       "    </tr>\n",
       "    <tr>\n",
       "      <th>1365</th>\n",
       "      <td>Hipster Ale (Two Roads Brewing)</td>\n",
       "      <td>Evil Twin Brewing</td>\n",
       "      <td>Brooklyn, NY</td>\n",
       "      <td>American Pale Ale (APA)</td>\n",
       "      <td>12 oz.</td>\n",
       "      <td>5.5</td>\n",
       "      <td>NaN</td>\n",
       "    </tr>\n",
       "    <tr>\n",
       "      <th>1366</th>\n",
       "      <td>Bikini Beer</td>\n",
       "      <td>Evil Twin Brewing</td>\n",
       "      <td>Brooklyn, NY</td>\n",
       "      <td>American IPA</td>\n",
       "      <td>12 oz.</td>\n",
       "      <td>2.7</td>\n",
       "      <td>NaN</td>\n",
       "    </tr>\n",
       "    <tr>\n",
       "      <th>...</th>\n",
       "      <td>...</td>\n",
       "      <td>...</td>\n",
       "      <td>...</td>\n",
       "      <td>...</td>\n",
       "      <td>...</td>\n",
       "      <td>...</td>\n",
       "      <td>...</td>\n",
       "    </tr>\n",
       "    <tr>\n",
       "      <th>1913</th>\n",
       "      <td>Blue Point White IPA</td>\n",
       "      <td>Blue Point Brewing Company</td>\n",
       "      <td>Patchogue, NY</td>\n",
       "      <td>American White IPA</td>\n",
       "      <td>12 oz.</td>\n",
       "      <td>6.0</td>\n",
       "      <td>40.0</td>\n",
       "    </tr>\n",
       "    <tr>\n",
       "      <th>1919</th>\n",
       "      <td>Saranac White IPA</td>\n",
       "      <td>Matt Brewing Company</td>\n",
       "      <td>Utica, NY</td>\n",
       "      <td>American IPA</td>\n",
       "      <td>12 oz.</td>\n",
       "      <td>6.0</td>\n",
       "      <td>NaN</td>\n",
       "    </tr>\n",
       "    <tr>\n",
       "      <th>1935</th>\n",
       "      <td>Blue Point Summer Ale</td>\n",
       "      <td>Blue Point Brewing Company</td>\n",
       "      <td>Patchogue, NY</td>\n",
       "      <td>American Blonde Ale</td>\n",
       "      <td>12 oz.</td>\n",
       "      <td>4.4</td>\n",
       "      <td>16.0</td>\n",
       "    </tr>\n",
       "    <tr>\n",
       "      <th>1937</th>\n",
       "      <td>Toasted Lager</td>\n",
       "      <td>Blue Point Brewing Company</td>\n",
       "      <td>Patchogue, NY</td>\n",
       "      <td>Vienna Lager</td>\n",
       "      <td>12 oz.</td>\n",
       "      <td>5.5</td>\n",
       "      <td>28.0</td>\n",
       "    </tr>\n",
       "    <tr>\n",
       "      <th>1962</th>\n",
       "      <td>Hipster Ale (Westbrook Brewing)</td>\n",
       "      <td>Evil Twin Brewing</td>\n",
       "      <td>Brooklyn, NY</td>\n",
       "      <td>American Pale Ale (APA)</td>\n",
       "      <td>12 oz.</td>\n",
       "      <td>5.5</td>\n",
       "      <td>NaN</td>\n",
       "    </tr>\n",
       "    <tr>\n",
       "      <th>1970</th>\n",
       "      <td>Apollo</td>\n",
       "      <td>Sixpoint Craft Ales</td>\n",
       "      <td>Brooklyn, NY</td>\n",
       "      <td>American Pale Wheat Ale</td>\n",
       "      <td>16 oz.</td>\n",
       "      <td>5.2</td>\n",
       "      <td>11.0</td>\n",
       "    </tr>\n",
       "    <tr>\n",
       "      <th>1971</th>\n",
       "      <td>Harbinger</td>\n",
       "      <td>Sixpoint Craft Ales</td>\n",
       "      <td>Brooklyn, NY</td>\n",
       "      <td>Saison / Farmhouse Ale</td>\n",
       "      <td>16 oz.</td>\n",
       "      <td>4.9</td>\n",
       "      <td>35.0</td>\n",
       "    </tr>\n",
       "    <tr>\n",
       "      <th>1972</th>\n",
       "      <td>Resin</td>\n",
       "      <td>Sixpoint Craft Ales</td>\n",
       "      <td>Brooklyn, NY</td>\n",
       "      <td>American Double / Imperial IPA</td>\n",
       "      <td>12 oz.</td>\n",
       "      <td>9.1</td>\n",
       "      <td>103.0</td>\n",
       "    </tr>\n",
       "    <tr>\n",
       "      <th>2015</th>\n",
       "      <td>Bomb Lager (New Recipe)</td>\n",
       "      <td>Bomb Beer Company</td>\n",
       "      <td>New York, NY</td>\n",
       "      <td>Munich Helles Lager</td>\n",
       "      <td>12 oz.</td>\n",
       "      <td>5.1</td>\n",
       "      <td>NaN</td>\n",
       "    </tr>\n",
       "    <tr>\n",
       "      <th>2027</th>\n",
       "      <td>East India Pale Ale</td>\n",
       "      <td>Brooklyn Brewery</td>\n",
       "      <td>Brooklyn, NY</td>\n",
       "      <td>English India Pale Ale (IPA)</td>\n",
       "      <td>12 oz.</td>\n",
       "      <td>6.8</td>\n",
       "      <td>47.0</td>\n",
       "    </tr>\n",
       "    <tr>\n",
       "      <th>2062</th>\n",
       "      <td>Diesel</td>\n",
       "      <td>Sixpoint Craft Ales</td>\n",
       "      <td>Brooklyn, NY</td>\n",
       "      <td>American Stout</td>\n",
       "      <td>16 oz.</td>\n",
       "      <td>6.3</td>\n",
       "      <td>69.0</td>\n",
       "    </tr>\n",
       "    <tr>\n",
       "      <th>2073</th>\n",
       "      <td>Bomb Lager (Old Recipe)</td>\n",
       "      <td>Bomb Beer Company</td>\n",
       "      <td>New York, NY</td>\n",
       "      <td>Munich Helles Lager</td>\n",
       "      <td>12 oz.</td>\n",
       "      <td>4.5</td>\n",
       "      <td>27.0</td>\n",
       "    </tr>\n",
       "    <tr>\n",
       "      <th>2074</th>\n",
       "      <td>Autumnation (2011-12) (2011)</td>\n",
       "      <td>Sixpoint Craft Ales</td>\n",
       "      <td>Brooklyn, NY</td>\n",
       "      <td>Pumpkin Ale</td>\n",
       "      <td>16 oz.</td>\n",
       "      <td>6.0</td>\n",
       "      <td>48.0</td>\n",
       "    </tr>\n",
       "    <tr>\n",
       "      <th>2113</th>\n",
       "      <td>Dundee Summer Wheat Beer</td>\n",
       "      <td>Dundee Brewing Company</td>\n",
       "      <td>Rochester, NY</td>\n",
       "      <td>American Pale Wheat Ale</td>\n",
       "      <td>12 oz.</td>\n",
       "      <td>4.5</td>\n",
       "      <td>18.0</td>\n",
       "    </tr>\n",
       "    <tr>\n",
       "      <th>2116</th>\n",
       "      <td>Saranac Summer Ale (2011)</td>\n",
       "      <td>Matt Brewing Company</td>\n",
       "      <td>Utica, NY</td>\n",
       "      <td>American Pale Wheat Ale</td>\n",
       "      <td>12 oz.</td>\n",
       "      <td>4.7</td>\n",
       "      <td>NaN</td>\n",
       "    </tr>\n",
       "    <tr>\n",
       "      <th>2140</th>\n",
       "      <td>The Crisp (2011)</td>\n",
       "      <td>Sixpoint Craft Ales</td>\n",
       "      <td>Brooklyn, NY</td>\n",
       "      <td>German Pilsener</td>\n",
       "      <td>16 oz.</td>\n",
       "      <td>5.4</td>\n",
       "      <td>42.0</td>\n",
       "    </tr>\n",
       "    <tr>\n",
       "      <th>2141</th>\n",
       "      <td>Sweet Action (2011)</td>\n",
       "      <td>Sixpoint Craft Ales</td>\n",
       "      <td>Brooklyn, NY</td>\n",
       "      <td>Cream Ale</td>\n",
       "      <td>16 oz.</td>\n",
       "      <td>5.2</td>\n",
       "      <td>34.0</td>\n",
       "    </tr>\n",
       "    <tr>\n",
       "      <th>2142</th>\n",
       "      <td>Righteous Ale (2011)</td>\n",
       "      <td>Sixpoint Craft Ales</td>\n",
       "      <td>Brooklyn, NY</td>\n",
       "      <td>Rye Beer</td>\n",
       "      <td>16 oz.</td>\n",
       "      <td>6.3</td>\n",
       "      <td>57.0</td>\n",
       "    </tr>\n",
       "    <tr>\n",
       "      <th>2143</th>\n",
       "      <td>Bengali Tiger (2011)</td>\n",
       "      <td>Sixpoint Craft Ales</td>\n",
       "      <td>Brooklyn, NY</td>\n",
       "      <td>American IPA</td>\n",
       "      <td>16 oz.</td>\n",
       "      <td>6.4</td>\n",
       "      <td>62.0</td>\n",
       "    </tr>\n",
       "    <tr>\n",
       "      <th>2180</th>\n",
       "      <td>Common Sense Kentucky Common Ale</td>\n",
       "      <td>Upstate Brewing Company</td>\n",
       "      <td>Elmira, NY</td>\n",
       "      <td>American Brown Ale</td>\n",
       "      <td>16 oz.</td>\n",
       "      <td>5.3</td>\n",
       "      <td>22.0</td>\n",
       "    </tr>\n",
       "    <tr>\n",
       "      <th>2181</th>\n",
       "      <td>Upstate I.P.W.</td>\n",
       "      <td>Upstate Brewing Company</td>\n",
       "      <td>Elmira, NY</td>\n",
       "      <td>American IPA</td>\n",
       "      <td>12 oz.</td>\n",
       "      <td>6.5</td>\n",
       "      <td>70.0</td>\n",
       "    </tr>\n",
       "    <tr>\n",
       "      <th>2219</th>\n",
       "      <td>Brooklyn Summer Ale (2011)</td>\n",
       "      <td>Brooklyn Brewery</td>\n",
       "      <td>Brooklyn, NY</td>\n",
       "      <td>English Pale Mild Ale</td>\n",
       "      <td>12 oz.</td>\n",
       "      <td>4.5</td>\n",
       "      <td>NaN</td>\n",
       "    </tr>\n",
       "    <tr>\n",
       "      <th>2282</th>\n",
       "      <td>Saranac Pale Ale (12 oz.)</td>\n",
       "      <td>Matt Brewing Company</td>\n",
       "      <td>Utica, NY</td>\n",
       "      <td>English Pale Ale</td>\n",
       "      <td>12 oz.</td>\n",
       "      <td>5.5</td>\n",
       "      <td>NaN</td>\n",
       "    </tr>\n",
       "    <tr>\n",
       "      <th>2293</th>\n",
       "      <td>Saranac Pale Ale (16 oz.)</td>\n",
       "      <td>Matt Brewing Company</td>\n",
       "      <td>Utica, NY</td>\n",
       "      <td>English Pale Ale</td>\n",
       "      <td>16 oz.</td>\n",
       "      <td>5.5</td>\n",
       "      <td>NaN</td>\n",
       "    </tr>\n",
       "    <tr>\n",
       "      <th>2350</th>\n",
       "      <td>Brooklyn Lager (16 oz.)</td>\n",
       "      <td>Brooklyn Brewery</td>\n",
       "      <td>Brooklyn, NY</td>\n",
       "      <td>American Amber / Red Lager</td>\n",
       "      <td>16 oz.</td>\n",
       "      <td>5.2</td>\n",
       "      <td>NaN</td>\n",
       "    </tr>\n",
       "    <tr>\n",
       "      <th>2351</th>\n",
       "      <td>Brooklyn Lager (12 oz.)</td>\n",
       "      <td>Brooklyn Brewery</td>\n",
       "      <td>Brooklyn, NY</td>\n",
       "      <td>American Amber / Red Lager</td>\n",
       "      <td>12 oz.</td>\n",
       "      <td>5.2</td>\n",
       "      <td>NaN</td>\n",
       "    </tr>\n",
       "    <tr>\n",
       "      <th>2364</th>\n",
       "      <td>Heinnieweisse Weissebier</td>\n",
       "      <td>Butternuts Beer and Ale</td>\n",
       "      <td>Garrattsville, NY</td>\n",
       "      <td>Hefeweizen</td>\n",
       "      <td>12 oz.</td>\n",
       "      <td>4.9</td>\n",
       "      <td>NaN</td>\n",
       "    </tr>\n",
       "    <tr>\n",
       "      <th>2365</th>\n",
       "      <td>Snapperhead IPA</td>\n",
       "      <td>Butternuts Beer and Ale</td>\n",
       "      <td>Garrattsville, NY</td>\n",
       "      <td>American IPA</td>\n",
       "      <td>12 oz.</td>\n",
       "      <td>6.8</td>\n",
       "      <td>NaN</td>\n",
       "    </tr>\n",
       "    <tr>\n",
       "      <th>2366</th>\n",
       "      <td>Moo Thunder Stout</td>\n",
       "      <td>Butternuts Beer and Ale</td>\n",
       "      <td>Garrattsville, NY</td>\n",
       "      <td>Milk / Sweet Stout</td>\n",
       "      <td>12 oz.</td>\n",
       "      <td>4.9</td>\n",
       "      <td>NaN</td>\n",
       "    </tr>\n",
       "    <tr>\n",
       "      <th>2367</th>\n",
       "      <td>Porkslap Pale Ale</td>\n",
       "      <td>Butternuts Beer and Ale</td>\n",
       "      <td>Garrattsville, NY</td>\n",
       "      <td>American Pale Ale (APA)</td>\n",
       "      <td>12 oz.</td>\n",
       "      <td>4.3</td>\n",
       "      <td>NaN</td>\n",
       "    </tr>\n",
       "  </tbody>\n",
       "</table>\n",
       "<p>74 rows × 7 columns</p>\n",
       "</div>"
      ],
      "text/plain": [
       "                                  Beer                     Brewery  \\\n",
       "115                             4Beans         Sixpoint Craft Ales   \n",
       "210                             Jammer         Sixpoint Craft Ales   \n",
       "246                            Abigale         Sixpoint Craft Ales   \n",
       "404                      Nomader Weiss           Evil Twin Brewing   \n",
       "421                                Rad         Sixpoint Craft Ales   \n",
       "439                       Molotov Lite           Evil Twin Brewing   \n",
       "588                            Bengali         Sixpoint Craft Ales   \n",
       "598                           8 Barrel             Chatham Brewing   \n",
       "599                        Oktoberfest             Chatham Brewing   \n",
       "628                          Cream Ale    Newburgh Brewing Company   \n",
       "653                      Montauk Light   Southampton Publick House   \n",
       "713                      Sensi Harvest         Sixpoint Craft Ales   \n",
       "768                 Montauk Summer Ale     Montauk Brewing Company   \n",
       "769                      Driftwood Ale     Montauk Brewing Company   \n",
       "837                     Our Legacy IPA        Matt Brewing Company   \n",
       "918              Bronx Summer Pale Ale           The Bronx Brewery   \n",
       "919               Bronx Black Pale Ale           The Bronx Brewery   \n",
       "969                             Hi-Res         Sixpoint Craft Ales   \n",
       "987              KelSo Nut Brown Lager          KelSo Beer Company   \n",
       "1057                     Global Warmer         Sixpoint Craft Ales   \n",
       "1074                Autumnation (2013)         Sixpoint Craft Ales   \n",
       "1093              KelSo India Pale Ale          KelSo Beer Company   \n",
       "1267                         The Crisp         Sixpoint Craft Ales   \n",
       "1268                      Sweet Action         Sixpoint Craft Ales   \n",
       "1269                     Righteous Ale         Sixpoint Craft Ales   \n",
       "1270                     Bengali Tiger         Sixpoint Craft Ales   \n",
       "1295                    Saranac Shandy        Matt Brewing Company   \n",
       "1305                     KelSo Pilsner          KelSo Beer Company   \n",
       "1365   Hipster Ale (Two Roads Brewing)           Evil Twin Brewing   \n",
       "1366                       Bikini Beer           Evil Twin Brewing   \n",
       "...                                ...                         ...   \n",
       "1913              Blue Point White IPA  Blue Point Brewing Company   \n",
       "1919                 Saranac White IPA        Matt Brewing Company   \n",
       "1935             Blue Point Summer Ale  Blue Point Brewing Company   \n",
       "1937                     Toasted Lager  Blue Point Brewing Company   \n",
       "1962   Hipster Ale (Westbrook Brewing)           Evil Twin Brewing   \n",
       "1970                            Apollo         Sixpoint Craft Ales   \n",
       "1971                         Harbinger         Sixpoint Craft Ales   \n",
       "1972                             Resin         Sixpoint Craft Ales   \n",
       "2015           Bomb Lager (New Recipe)           Bomb Beer Company   \n",
       "2027               East India Pale Ale            Brooklyn Brewery   \n",
       "2062                            Diesel         Sixpoint Craft Ales   \n",
       "2073           Bomb Lager (Old Recipe)           Bomb Beer Company   \n",
       "2074      Autumnation (2011-12) (2011)         Sixpoint Craft Ales   \n",
       "2113          Dundee Summer Wheat Beer      Dundee Brewing Company   \n",
       "2116         Saranac Summer Ale (2011)        Matt Brewing Company   \n",
       "2140                  The Crisp (2011)         Sixpoint Craft Ales   \n",
       "2141               Sweet Action (2011)         Sixpoint Craft Ales   \n",
       "2142              Righteous Ale (2011)         Sixpoint Craft Ales   \n",
       "2143              Bengali Tiger (2011)         Sixpoint Craft Ales   \n",
       "2180  Common Sense Kentucky Common Ale     Upstate Brewing Company   \n",
       "2181                    Upstate I.P.W.     Upstate Brewing Company   \n",
       "2219        Brooklyn Summer Ale (2011)            Brooklyn Brewery   \n",
       "2282         Saranac Pale Ale (12 oz.)        Matt Brewing Company   \n",
       "2293         Saranac Pale Ale (16 oz.)        Matt Brewing Company   \n",
       "2350           Brooklyn Lager (16 oz.)            Brooklyn Brewery   \n",
       "2351           Brooklyn Lager (12 oz.)            Brooklyn Brewery   \n",
       "2364          Heinnieweisse Weissebier     Butternuts Beer and Ale   \n",
       "2365                   Snapperhead IPA     Butternuts Beer and Ale   \n",
       "2366                 Moo Thunder Stout     Butternuts Beer and Ale   \n",
       "2367                 Porkslap Pale Ale     Butternuts Beer and Ale   \n",
       "\n",
       "               Location                                Style  \\\n",
       "115        Brooklyn, NY                        Baltic Porter   \n",
       "210        Brooklyn, NY                                 Gose   \n",
       "246        Brooklyn, NY                     Belgian Pale Ale   \n",
       "404        Brooklyn, NY                   Berliner Weissbier   \n",
       "421        Brooklyn, NY               Fruit / Vegetable Beer   \n",
       "439        Brooklyn, NY       American Double / Imperial IPA   \n",
       "588        Brooklyn, NY                         American IPA   \n",
       "598         Chatham, NY                  American Strong Ale   \n",
       "599         Chatham, NY                 Märzen / Oktoberfest   \n",
       "628        Newburgh, NY                            Cream Ale   \n",
       "653     Southampton, NY                          Light Lager   \n",
       "713        Brooklyn, NY              American Pale Ale (APA)   \n",
       "768         Montauk, NY                  American Blonde Ale   \n",
       "769         Montauk, NY  Extra Special / Strong Bitter (ESB)   \n",
       "837           Utica, NY                         American IPA   \n",
       "918           Bronx, NY              American Pale Ale (APA)   \n",
       "919           Bronx, NY                   American Black Ale   \n",
       "969        Brooklyn, NY       American Double / Imperial IPA   \n",
       "987        Brooklyn, NY                      Euro Dark Lager   \n",
       "1057       Brooklyn, NY                  American Strong Ale   \n",
       "1074       Brooklyn, NY                         American IPA   \n",
       "1093       Brooklyn, NY                         American IPA   \n",
       "1267       Brooklyn, NY                      German Pilsener   \n",
       "1268       Brooklyn, NY                            Cream Ale   \n",
       "1269       Brooklyn, NY                             Rye Beer   \n",
       "1270       Brooklyn, NY                         American IPA   \n",
       "1295          Utica, NY                               Shandy   \n",
       "1305       Brooklyn, NY                       Czech Pilsener   \n",
       "1365       Brooklyn, NY              American Pale Ale (APA)   \n",
       "1366       Brooklyn, NY                         American IPA   \n",
       "...                 ...                                  ...   \n",
       "1913      Patchogue, NY                   American White IPA   \n",
       "1919          Utica, NY                         American IPA   \n",
       "1935      Patchogue, NY                  American Blonde Ale   \n",
       "1937      Patchogue, NY                         Vienna Lager   \n",
       "1962       Brooklyn, NY              American Pale Ale (APA)   \n",
       "1970       Brooklyn, NY              American Pale Wheat Ale   \n",
       "1971       Brooklyn, NY               Saison / Farmhouse Ale   \n",
       "1972       Brooklyn, NY       American Double / Imperial IPA   \n",
       "2015       New York, NY                  Munich Helles Lager   \n",
       "2027       Brooklyn, NY         English India Pale Ale (IPA)   \n",
       "2062       Brooklyn, NY                       American Stout   \n",
       "2073       New York, NY                  Munich Helles Lager   \n",
       "2074       Brooklyn, NY                          Pumpkin Ale   \n",
       "2113      Rochester, NY              American Pale Wheat Ale   \n",
       "2116          Utica, NY              American Pale Wheat Ale   \n",
       "2140       Brooklyn, NY                      German Pilsener   \n",
       "2141       Brooklyn, NY                            Cream Ale   \n",
       "2142       Brooklyn, NY                             Rye Beer   \n",
       "2143       Brooklyn, NY                         American IPA   \n",
       "2180         Elmira, NY                   American Brown Ale   \n",
       "2181         Elmira, NY                         American IPA   \n",
       "2219       Brooklyn, NY                English Pale Mild Ale   \n",
       "2282          Utica, NY                     English Pale Ale   \n",
       "2293          Utica, NY                     English Pale Ale   \n",
       "2350       Brooklyn, NY           American Amber / Red Lager   \n",
       "2351       Brooklyn, NY           American Amber / Red Lager   \n",
       "2364  Garrattsville, NY                           Hefeweizen   \n",
       "2365  Garrattsville, NY                         American IPA   \n",
       "2366  Garrattsville, NY                   Milk / Sweet Stout   \n",
       "2367  Garrattsville, NY              American Pale Ale (APA)   \n",
       "\n",
       "                   Size   ABV   IBUs  \n",
       "115              12 oz.  10.0   52.0  \n",
       "210     12 oz. Slimline   4.2   16.0  \n",
       "246              12 oz.   8.0    NaN  \n",
       "404              12 oz.   4.0    NaN  \n",
       "421              16 oz.   3.2    7.0  \n",
       "439              16 oz.   8.5    NaN  \n",
       "588   24 oz. \"Silo Can\"   6.5   62.0  \n",
       "598              16 oz.   8.0   69.0  \n",
       "599              16 oz.   5.5   40.0  \n",
       "628              12 oz.   4.2   35.0  \n",
       "653              12 oz.   3.5    NaN  \n",
       "713              12 oz.   4.7   50.0  \n",
       "768              12 oz.   5.6   28.0  \n",
       "769              12 oz.   6.0   49.0  \n",
       "837              12 oz.   6.5   60.0  \n",
       "918              16 oz.   5.2   16.0  \n",
       "919              16 oz.   5.7   46.0  \n",
       "969              12 oz.   9.9  111.0  \n",
       "987              12 oz.   5.7   19.0  \n",
       "1057             12 oz.   7.0   70.0  \n",
       "1074             16 oz.   6.7   74.0  \n",
       "1093             12 oz.   6.0   64.0  \n",
       "1267             16 oz.   5.4   42.0  \n",
       "1268             16 oz.   5.2   34.0  \n",
       "1269             16 oz.   6.3   57.0  \n",
       "1270             16 oz.   6.4   62.0  \n",
       "1295             12 oz.   4.2    NaN  \n",
       "1305             12 oz.   5.5   23.0  \n",
       "1365             12 oz.   5.5    NaN  \n",
       "1366             12 oz.   2.7    NaN  \n",
       "...                 ...   ...    ...  \n",
       "1913             12 oz.   6.0   40.0  \n",
       "1919             12 oz.   6.0    NaN  \n",
       "1935             12 oz.   4.4   16.0  \n",
       "1937             12 oz.   5.5   28.0  \n",
       "1962             12 oz.   5.5    NaN  \n",
       "1970             16 oz.   5.2   11.0  \n",
       "1971             16 oz.   4.9   35.0  \n",
       "1972             12 oz.   9.1  103.0  \n",
       "2015             12 oz.   5.1    NaN  \n",
       "2027             12 oz.   6.8   47.0  \n",
       "2062             16 oz.   6.3   69.0  \n",
       "2073             12 oz.   4.5   27.0  \n",
       "2074             16 oz.   6.0   48.0  \n",
       "2113             12 oz.   4.5   18.0  \n",
       "2116             12 oz.   4.7    NaN  \n",
       "2140             16 oz.   5.4   42.0  \n",
       "2141             16 oz.   5.2   34.0  \n",
       "2142             16 oz.   6.3   57.0  \n",
       "2143             16 oz.   6.4   62.0  \n",
       "2180             16 oz.   5.3   22.0  \n",
       "2181             12 oz.   6.5   70.0  \n",
       "2219             12 oz.   4.5    NaN  \n",
       "2282             12 oz.   5.5    NaN  \n",
       "2293             16 oz.   5.5    NaN  \n",
       "2350             16 oz.   5.2    NaN  \n",
       "2351             12 oz.   5.2    NaN  \n",
       "2364             12 oz.   4.9    NaN  \n",
       "2365             12 oz.   6.8    NaN  \n",
       "2366             12 oz.   4.9    NaN  \n",
       "2367             12 oz.   4.3    NaN  \n",
       "\n",
       "[74 rows x 7 columns]"
      ]
     },
     "execution_count": 17,
     "metadata": {},
     "output_type": "execute_result"
    }
   ],
   "source": [
    "NY = df[df.Location.str.contains('.*, NY', na = False)]\n",
    "NY"
   ]
  },
  {
   "cell_type": "code",
   "execution_count": null,
   "metadata": {},
   "outputs": [],
   "source": []
  },
  {
   "cell_type": "markdown",
   "metadata": {},
   "source": [
    "### Now *count* all of the breweries in New York state"
   ]
  },
  {
   "cell_type": "code",
   "execution_count": 18,
   "metadata": {},
   "outputs": [
    {
     "data": {
      "text/plain": [
       "16"
      ]
     },
     "execution_count": 18,
     "metadata": {},
     "output_type": "execute_result"
    }
   ],
   "source": [
    "len(NY.Brewery.value_counts())"
   ]
  },
  {
   "cell_type": "markdown",
   "metadata": {},
   "source": [
    "# Measuring International Bitterness Units\n",
    "\n",
    "## Display all of the IPAs\n",
    "\n",
    "Include American IPAs, Imperial IPAs, and anything else with \"IPA in it.\"\n",
    "\n",
    "IPA stands for [India Pale Ale](https://www.bonappetit.com/story/ipa-beer-styles), and is probably the most popular kind of beer in the US for people who are drinking [craft beer](https://www.craftbeer.com/beer/what-is-craft-beer)."
   ]
  },
  {
   "cell_type": "code",
   "execution_count": 19,
   "metadata": {},
   "outputs": [
    {
     "data": {
      "text/html": [
       "<div>\n",
       "<style scoped>\n",
       "    .dataframe tbody tr th:only-of-type {\n",
       "        vertical-align: middle;\n",
       "    }\n",
       "\n",
       "    .dataframe tbody tr th {\n",
       "        vertical-align: top;\n",
       "    }\n",
       "\n",
       "    .dataframe thead th {\n",
       "        text-align: right;\n",
       "    }\n",
       "</style>\n",
       "<table border=\"1\" class=\"dataframe\">\n",
       "  <thead>\n",
       "    <tr style=\"text-align: right;\">\n",
       "      <th></th>\n",
       "      <th>Beer</th>\n",
       "      <th>Brewery</th>\n",
       "      <th>Location</th>\n",
       "      <th>Style</th>\n",
       "      <th>Size</th>\n",
       "      <th>ABV</th>\n",
       "      <th>IBUs</th>\n",
       "    </tr>\n",
       "  </thead>\n",
       "  <tbody>\n",
       "    <tr>\n",
       "      <th>0</th>\n",
       "      <td>Get Together</td>\n",
       "      <td>NorthGate Brewing</td>\n",
       "      <td>Minneapolis, MN</td>\n",
       "      <td>American IPA</td>\n",
       "      <td>16 oz.</td>\n",
       "      <td>4.5</td>\n",
       "      <td>50.0</td>\n",
       "    </tr>\n",
       "    <tr>\n",
       "      <th>6</th>\n",
       "      <td>Citra Ass Down</td>\n",
       "      <td>Against the Grain Brewery</td>\n",
       "      <td>Louisville, KY</td>\n",
       "      <td>American Double / Imperial IPA</td>\n",
       "      <td>16 oz.</td>\n",
       "      <td>8.0</td>\n",
       "      <td>68.0</td>\n",
       "    </tr>\n",
       "    <tr>\n",
       "      <th>14</th>\n",
       "      <td>Rico Sauvin</td>\n",
       "      <td>Against the Grain Brewery</td>\n",
       "      <td>Louisville, KY</td>\n",
       "      <td>American Double / Imperial IPA</td>\n",
       "      <td>16 oz.</td>\n",
       "      <td>7.6</td>\n",
       "      <td>68.0</td>\n",
       "    </tr>\n",
       "    <tr>\n",
       "      <th>17</th>\n",
       "      <td>Pile of Face</td>\n",
       "      <td>Against the Grain Brewery</td>\n",
       "      <td>Louisville, KY</td>\n",
       "      <td>American IPA</td>\n",
       "      <td>16 oz.</td>\n",
       "      <td>6.0</td>\n",
       "      <td>65.0</td>\n",
       "    </tr>\n",
       "    <tr>\n",
       "      <th>24</th>\n",
       "      <td>Habitus (2014)</td>\n",
       "      <td>Mike Hess Brewing Company</td>\n",
       "      <td>San Diego, CA</td>\n",
       "      <td>American Double / Imperial IPA</td>\n",
       "      <td>16 oz.</td>\n",
       "      <td>8.0</td>\n",
       "      <td>100.0</td>\n",
       "    </tr>\n",
       "    <tr>\n",
       "      <th>25</th>\n",
       "      <td>Solis</td>\n",
       "      <td>Mike Hess Brewing Company</td>\n",
       "      <td>San Diego, CA</td>\n",
       "      <td>American IPA</td>\n",
       "      <td>16 oz.</td>\n",
       "      <td>7.5</td>\n",
       "      <td>85.0</td>\n",
       "    </tr>\n",
       "    <tr>\n",
       "      <th>27</th>\n",
       "      <td>Habitus</td>\n",
       "      <td>Mike Hess Brewing Company</td>\n",
       "      <td>San Diego, CA</td>\n",
       "      <td>American Double / Imperial IPA</td>\n",
       "      <td>16 oz.</td>\n",
       "      <td>8.0</td>\n",
       "      <td>100.0</td>\n",
       "    </tr>\n",
       "    <tr>\n",
       "      <th>33</th>\n",
       "      <td>Villager</td>\n",
       "      <td>Fort Point Beer Company</td>\n",
       "      <td>San Francisco, CA</td>\n",
       "      <td>American IPA</td>\n",
       "      <td>12 oz.</td>\n",
       "      <td>6.3</td>\n",
       "      <td>42.0</td>\n",
       "    </tr>\n",
       "    <tr>\n",
       "      <th>38</th>\n",
       "      <td>HopArt</td>\n",
       "      <td>COAST Brewing Company</td>\n",
       "      <td>Charleston, SC</td>\n",
       "      <td>American IPA</td>\n",
       "      <td>16 oz.</td>\n",
       "      <td>7.7</td>\n",
       "      <td>NaN</td>\n",
       "    </tr>\n",
       "    <tr>\n",
       "      <th>39</th>\n",
       "      <td>Boy King</td>\n",
       "      <td>COAST Brewing Company</td>\n",
       "      <td>Charleston, SC</td>\n",
       "      <td>American Double / Imperial IPA</td>\n",
       "      <td>16 oz.</td>\n",
       "      <td>9.7</td>\n",
       "      <td>NaN</td>\n",
       "    </tr>\n",
       "    <tr>\n",
       "      <th>43</th>\n",
       "      <td>Rumble</td>\n",
       "      <td>Great Divide Brewing Company</td>\n",
       "      <td>Denver, CO</td>\n",
       "      <td>American IPA</td>\n",
       "      <td>12 oz.</td>\n",
       "      <td>7.1</td>\n",
       "      <td>NaN</td>\n",
       "    </tr>\n",
       "    <tr>\n",
       "      <th>45</th>\n",
       "      <td>Lasso</td>\n",
       "      <td>Great Divide Brewing Company</td>\n",
       "      <td>Denver, CO</td>\n",
       "      <td>American IPA</td>\n",
       "      <td>12 oz.</td>\n",
       "      <td>5.0</td>\n",
       "      <td>NaN</td>\n",
       "    </tr>\n",
       "    <tr>\n",
       "      <th>48</th>\n",
       "      <td>Titan IPA</td>\n",
       "      <td>Great Divide Brewing Company</td>\n",
       "      <td>Denver, CO</td>\n",
       "      <td>American IPA</td>\n",
       "      <td>12 oz.</td>\n",
       "      <td>7.1</td>\n",
       "      <td>NaN</td>\n",
       "    </tr>\n",
       "    <tr>\n",
       "      <th>55</th>\n",
       "      <td>Nordskye</td>\n",
       "      <td>Blackrocks Brewery</td>\n",
       "      <td>Marquette, MI</td>\n",
       "      <td>American IPA</td>\n",
       "      <td>12 oz.</td>\n",
       "      <td>4.8</td>\n",
       "      <td>47.0</td>\n",
       "    </tr>\n",
       "    <tr>\n",
       "      <th>59</th>\n",
       "      <td>98 Problems (Cuz A Hop Ain't One)</td>\n",
       "      <td>Perrin Brewing Company</td>\n",
       "      <td>Comstock Park, MI</td>\n",
       "      <td>American IPA</td>\n",
       "      <td>12 oz.</td>\n",
       "      <td>6.5</td>\n",
       "      <td>65.0</td>\n",
       "    </tr>\n",
       "    <tr>\n",
       "      <th>61</th>\n",
       "      <td>Grapefruit IPA</td>\n",
       "      <td>Perrin Brewing Company</td>\n",
       "      <td>Comstock Park, MI</td>\n",
       "      <td>American IPA</td>\n",
       "      <td>12 oz.</td>\n",
       "      <td>5.0</td>\n",
       "      <td>35.0</td>\n",
       "    </tr>\n",
       "    <tr>\n",
       "      <th>62</th>\n",
       "      <td>Train Hopper</td>\n",
       "      <td>Witch's Hat Brewing Company</td>\n",
       "      <td>South Lyon, MI</td>\n",
       "      <td>American IPA</td>\n",
       "      <td>12 oz.</td>\n",
       "      <td>5.8</td>\n",
       "      <td>72.0</td>\n",
       "    </tr>\n",
       "    <tr>\n",
       "      <th>71</th>\n",
       "      <td>Thai.p.a</td>\n",
       "      <td>Bare Hands Brewery</td>\n",
       "      <td>Granger, IN</td>\n",
       "      <td>American IPA</td>\n",
       "      <td>16 oz.</td>\n",
       "      <td>7.0</td>\n",
       "      <td>46.0</td>\n",
       "    </tr>\n",
       "    <tr>\n",
       "      <th>78</th>\n",
       "      <td>The 26th</td>\n",
       "      <td>Four Fathers Brewing</td>\n",
       "      <td>Valparaiso, IN</td>\n",
       "      <td>American IPA</td>\n",
       "      <td>16 oz.</td>\n",
       "      <td>6.0</td>\n",
       "      <td>NaN</td>\n",
       "    </tr>\n",
       "    <tr>\n",
       "      <th>79</th>\n",
       "      <td>The Gadget</td>\n",
       "      <td>Four Fathers Brewing</td>\n",
       "      <td>Valparaiso, IN</td>\n",
       "      <td>American IPA</td>\n",
       "      <td>16 oz.</td>\n",
       "      <td>6.4</td>\n",
       "      <td>90.0</td>\n",
       "    </tr>\n",
       "    <tr>\n",
       "      <th>86</th>\n",
       "      <td>Galaxyfest</td>\n",
       "      <td>450 North Brewing Company</td>\n",
       "      <td>Columbus, IN</td>\n",
       "      <td>American IPA</td>\n",
       "      <td>16 oz.</td>\n",
       "      <td>6.5</td>\n",
       "      <td>NaN</td>\n",
       "    </tr>\n",
       "    <tr>\n",
       "      <th>87</th>\n",
       "      <td>Citrafest</td>\n",
       "      <td>450 North Brewing Company</td>\n",
       "      <td>Columbus, IN</td>\n",
       "      <td>American IPA</td>\n",
       "      <td>16 oz.</td>\n",
       "      <td>5.0</td>\n",
       "      <td>45.0</td>\n",
       "    </tr>\n",
       "    <tr>\n",
       "      <th>89</th>\n",
       "      <td>Gone A-Rye</td>\n",
       "      <td>Cedar Creek Brewery</td>\n",
       "      <td>Seven Points, TX</td>\n",
       "      <td>American Double / Imperial IPA</td>\n",
       "      <td>16 oz.</td>\n",
       "      <td>8.5</td>\n",
       "      <td>90.0</td>\n",
       "    </tr>\n",
       "    <tr>\n",
       "      <th>92</th>\n",
       "      <td>Linnaeus Mango IPA</td>\n",
       "      <td>Brewery Vivant</td>\n",
       "      <td>Grand Rapids, MI</td>\n",
       "      <td>American IPA</td>\n",
       "      <td>16 oz.</td>\n",
       "      <td>6.0</td>\n",
       "      <td>NaN</td>\n",
       "    </tr>\n",
       "    <tr>\n",
       "      <th>93</th>\n",
       "      <td>Heavy Lifting</td>\n",
       "      <td>Boulevard Brewing Company</td>\n",
       "      <td>Kansas City, MO</td>\n",
       "      <td>American IPA</td>\n",
       "      <td>12 oz.</td>\n",
       "      <td>6.2</td>\n",
       "      <td>80.0</td>\n",
       "    </tr>\n",
       "    <tr>\n",
       "      <th>96</th>\n",
       "      <td>Grapefruit Sculpin</td>\n",
       "      <td>Ballast Point Brewing Company</td>\n",
       "      <td>San Diego, CA</td>\n",
       "      <td>American IPA</td>\n",
       "      <td>12 oz.</td>\n",
       "      <td>7.0</td>\n",
       "      <td>NaN</td>\n",
       "    </tr>\n",
       "    <tr>\n",
       "      <th>97</th>\n",
       "      <td>Liberty Ale</td>\n",
       "      <td>Anchor Brewing Company</td>\n",
       "      <td>San Francisco, CA</td>\n",
       "      <td>American IPA</td>\n",
       "      <td>12 oz</td>\n",
       "      <td>5.9</td>\n",
       "      <td>NaN</td>\n",
       "    </tr>\n",
       "    <tr>\n",
       "      <th>100</th>\n",
       "      <td>Raja</td>\n",
       "      <td>Avery Brewing Company</td>\n",
       "      <td>Boulder, CO</td>\n",
       "      <td>American Double / Imperial IPA</td>\n",
       "      <td>12 oz.</td>\n",
       "      <td>8.0</td>\n",
       "      <td>NaN</td>\n",
       "    </tr>\n",
       "    <tr>\n",
       "      <th>104</th>\n",
       "      <td>Galaxy IPA</td>\n",
       "      <td>Big Muddy Brewing</td>\n",
       "      <td>Murphysboro, IL</td>\n",
       "      <td>American IPA</td>\n",
       "      <td>16 oz.</td>\n",
       "      <td>7.5</td>\n",
       "      <td>60.0</td>\n",
       "    </tr>\n",
       "    <tr>\n",
       "      <th>107</th>\n",
       "      <td>Mosaic Single Hop IPA</td>\n",
       "      <td>Lost Nation Brewing</td>\n",
       "      <td>East Fairfield, VT</td>\n",
       "      <td>American IPA</td>\n",
       "      <td>16 oz.</td>\n",
       "      <td>5.5</td>\n",
       "      <td>NaN</td>\n",
       "    </tr>\n",
       "    <tr>\n",
       "      <th>...</th>\n",
       "      <td>...</td>\n",
       "      <td>...</td>\n",
       "      <td>...</td>\n",
       "      <td>...</td>\n",
       "      <td>...</td>\n",
       "      <td>...</td>\n",
       "      <td>...</td>\n",
       "    </tr>\n",
       "    <tr>\n",
       "      <th>2245</th>\n",
       "      <td>11th Hour IPA</td>\n",
       "      <td>Crow Peak Brewing Company</td>\n",
       "      <td>Spearfish, SD</td>\n",
       "      <td>American IPA</td>\n",
       "      <td>12 oz.</td>\n",
       "      <td>6.0</td>\n",
       "      <td>NaN</td>\n",
       "    </tr>\n",
       "    <tr>\n",
       "      <th>2248</th>\n",
       "      <td>Happy Camper IPA</td>\n",
       "      <td>Santa Fe Brewing Company</td>\n",
       "      <td>Santa Fe, NM</td>\n",
       "      <td>American IPA</td>\n",
       "      <td>12 oz.</td>\n",
       "      <td>6.6</td>\n",
       "      <td>NaN</td>\n",
       "    </tr>\n",
       "    <tr>\n",
       "      <th>2252</th>\n",
       "      <td>Lucky U IPA</td>\n",
       "      <td>Breckenridge Brewery</td>\n",
       "      <td>Denver, CO</td>\n",
       "      <td>American IPA</td>\n",
       "      <td>12 oz.</td>\n",
       "      <td>6.2</td>\n",
       "      <td>68.0</td>\n",
       "    </tr>\n",
       "    <tr>\n",
       "      <th>2257</th>\n",
       "      <td>The Corruption</td>\n",
       "      <td>DC Brau Brewing Company</td>\n",
       "      <td>Washington, DC</td>\n",
       "      <td>American IPA</td>\n",
       "      <td>12 oz.</td>\n",
       "      <td>6.5</td>\n",
       "      <td>80.0</td>\n",
       "    </tr>\n",
       "    <tr>\n",
       "      <th>2261</th>\n",
       "      <td>Stowaway IPA</td>\n",
       "      <td>Baxter Brewing Company</td>\n",
       "      <td>Lewiston, ME</td>\n",
       "      <td>American IPA</td>\n",
       "      <td>12 oz.</td>\n",
       "      <td>6.9</td>\n",
       "      <td>69.0</td>\n",
       "    </tr>\n",
       "    <tr>\n",
       "      <th>2279</th>\n",
       "      <td>Ice Pick Ale</td>\n",
       "      <td>Silverton Brewery</td>\n",
       "      <td>Silverton, CO</td>\n",
       "      <td>American IPA</td>\n",
       "      <td>12 oz.</td>\n",
       "      <td>6.8</td>\n",
       "      <td>NaN</td>\n",
       "    </tr>\n",
       "    <tr>\n",
       "      <th>2281</th>\n",
       "      <td>Cornerstone IPA</td>\n",
       "      <td>Rochester Mills Brewing Company</td>\n",
       "      <td>Rochester, MI</td>\n",
       "      <td>American IPA</td>\n",
       "      <td>16 oz.</td>\n",
       "      <td>7.0</td>\n",
       "      <td>NaN</td>\n",
       "    </tr>\n",
       "    <tr>\n",
       "      <th>2288</th>\n",
       "      <td>Black Iron India Pale Ale</td>\n",
       "      <td>Grand Canyon Brewing Company</td>\n",
       "      <td>Williams, AZ</td>\n",
       "      <td>American IPA</td>\n",
       "      <td>12 oz.</td>\n",
       "      <td>NaN</td>\n",
       "      <td>NaN</td>\n",
       "    </tr>\n",
       "    <tr>\n",
       "      <th>2299</th>\n",
       "      <td>Harpoon IPA (2010)</td>\n",
       "      <td>Harpoon Brewery</td>\n",
       "      <td>Boston, MA</td>\n",
       "      <td>American IPA</td>\n",
       "      <td>12 oz.</td>\n",
       "      <td>5.9</td>\n",
       "      <td>42.0</td>\n",
       "    </tr>\n",
       "    <tr>\n",
       "      <th>2306</th>\n",
       "      <td>Ranger IPA (Current)</td>\n",
       "      <td>New Belgium Brewing Company</td>\n",
       "      <td>Fort Collins, CO</td>\n",
       "      <td>American IPA</td>\n",
       "      <td>12 oz.</td>\n",
       "      <td>6.5</td>\n",
       "      <td>70.0</td>\n",
       "    </tr>\n",
       "    <tr>\n",
       "      <th>2313</th>\n",
       "      <td>Avery India Pale Ale</td>\n",
       "      <td>Avery Brewing Company</td>\n",
       "      <td>Boulder, CO</td>\n",
       "      <td>American IPA</td>\n",
       "      <td>12 oz.</td>\n",
       "      <td>6.3</td>\n",
       "      <td>69.0</td>\n",
       "    </tr>\n",
       "    <tr>\n",
       "      <th>2316</th>\n",
       "      <td>Oasis (2010)</td>\n",
       "      <td>Tallgrass Brewing Company</td>\n",
       "      <td>Manhattan, KS</td>\n",
       "      <td>American Double / Imperial IPA</td>\n",
       "      <td>16 oz.</td>\n",
       "      <td>7.2</td>\n",
       "      <td>93.0</td>\n",
       "    </tr>\n",
       "    <tr>\n",
       "      <th>2319</th>\n",
       "      <td>Tallgrass IPA</td>\n",
       "      <td>Tallgrass Brewing Company</td>\n",
       "      <td>Manhattan, KS</td>\n",
       "      <td>American IPA</td>\n",
       "      <td>16 oz.</td>\n",
       "      <td>6.3</td>\n",
       "      <td>60.0</td>\n",
       "    </tr>\n",
       "    <tr>\n",
       "      <th>2326</th>\n",
       "      <td>Third Eye Pale Ale</td>\n",
       "      <td>Steamworks Brewing Company</td>\n",
       "      <td>Durango, CO</td>\n",
       "      <td>American IPA</td>\n",
       "      <td>12 oz.</td>\n",
       "      <td>6.5</td>\n",
       "      <td>65.0</td>\n",
       "    </tr>\n",
       "    <tr>\n",
       "      <th>2330</th>\n",
       "      <td>Double Haul IPA</td>\n",
       "      <td>Kettle House Brewing Company</td>\n",
       "      <td>Missoula, MT</td>\n",
       "      <td>American IPA</td>\n",
       "      <td>16 oz.</td>\n",
       "      <td>6.5</td>\n",
       "      <td>65.0</td>\n",
       "    </tr>\n",
       "    <tr>\n",
       "      <th>2337</th>\n",
       "      <td>Upslope India Pale Ale</td>\n",
       "      <td>Upslope Brewing Company</td>\n",
       "      <td>Boulder, CO</td>\n",
       "      <td>American IPA</td>\n",
       "      <td>12 oz.</td>\n",
       "      <td>7.2</td>\n",
       "      <td>NaN</td>\n",
       "    </tr>\n",
       "    <tr>\n",
       "      <th>2341</th>\n",
       "      <td>Epic IPA</td>\n",
       "      <td>Mammoth Brewing Company</td>\n",
       "      <td>Mammoth Lakes, CA</td>\n",
       "      <td>American IPA</td>\n",
       "      <td>12 oz.</td>\n",
       "      <td>6.5</td>\n",
       "      <td>NaN</td>\n",
       "    </tr>\n",
       "    <tr>\n",
       "      <th>2349</th>\n",
       "      <td>Modus Hoperandi</td>\n",
       "      <td>Ska Brewing Company</td>\n",
       "      <td>Durango, CO</td>\n",
       "      <td>American IPA</td>\n",
       "      <td>12 oz.</td>\n",
       "      <td>6.8</td>\n",
       "      <td>65.0</td>\n",
       "    </tr>\n",
       "    <tr>\n",
       "      <th>2365</th>\n",
       "      <td>Snapperhead IPA</td>\n",
       "      <td>Butternuts Beer and Ale</td>\n",
       "      <td>Garrattsville, NY</td>\n",
       "      <td>American IPA</td>\n",
       "      <td>12 oz.</td>\n",
       "      <td>6.8</td>\n",
       "      <td>NaN</td>\n",
       "    </tr>\n",
       "    <tr>\n",
       "      <th>2369</th>\n",
       "      <td>Ballz Deep Double IPA</td>\n",
       "      <td>7 Seas Brewing Company</td>\n",
       "      <td>Gig Harbor, WA</td>\n",
       "      <td>American Double / Imperial IPA</td>\n",
       "      <td>16 oz.</td>\n",
       "      <td>8.4</td>\n",
       "      <td>82.0</td>\n",
       "    </tr>\n",
       "    <tr>\n",
       "      <th>2375</th>\n",
       "      <td>Gandhi-Bot Double IPA</td>\n",
       "      <td>New England Brewing Company</td>\n",
       "      <td>Woodbridge, CT</td>\n",
       "      <td>American Double / Imperial IPA</td>\n",
       "      <td>16 oz.</td>\n",
       "      <td>8.8</td>\n",
       "      <td>85.0</td>\n",
       "    </tr>\n",
       "    <tr>\n",
       "      <th>2379</th>\n",
       "      <td>Sea Hag IPA (Current)</td>\n",
       "      <td>New England Brewing Company</td>\n",
       "      <td>Woodbridge, CT</td>\n",
       "      <td>American IPA</td>\n",
       "      <td>12 oz.</td>\n",
       "      <td>6.2</td>\n",
       "      <td>NaN</td>\n",
       "    </tr>\n",
       "    <tr>\n",
       "      <th>2382</th>\n",
       "      <td>Caldera IPA</td>\n",
       "      <td>Caldera Brewing Company</td>\n",
       "      <td>Ashland, OR</td>\n",
       "      <td>American IPA</td>\n",
       "      <td>12 oz.</td>\n",
       "      <td>6.1</td>\n",
       "      <td>94.0</td>\n",
       "    </tr>\n",
       "    <tr>\n",
       "      <th>2387</th>\n",
       "      <td>Big Swell IPA</td>\n",
       "      <td>Maui Brewing Company</td>\n",
       "      <td>Lahaina, HI</td>\n",
       "      <td>American IPA</td>\n",
       "      <td>12 oz.</td>\n",
       "      <td>6.2</td>\n",
       "      <td>65.0</td>\n",
       "    </tr>\n",
       "    <tr>\n",
       "      <th>2394</th>\n",
       "      <td>113 IPA</td>\n",
       "      <td>Sly Fox Brewing Company</td>\n",
       "      <td>Pottstown, PA</td>\n",
       "      <td>American IPA</td>\n",
       "      <td>12 oz.</td>\n",
       "      <td>7.0</td>\n",
       "      <td>113.0</td>\n",
       "    </tr>\n",
       "    <tr>\n",
       "      <th>2403</th>\n",
       "      <td>Abrasive Ale</td>\n",
       "      <td>Surly Brewing Company</td>\n",
       "      <td>Brooklyn Center, MN</td>\n",
       "      <td>American Double / Imperial IPA</td>\n",
       "      <td>16 oz.</td>\n",
       "      <td>9.7</td>\n",
       "      <td>120.0</td>\n",
       "    </tr>\n",
       "    <tr>\n",
       "      <th>2406</th>\n",
       "      <td>Furious</td>\n",
       "      <td>Surly Brewing Company</td>\n",
       "      <td>Brooklyn Center, MN</td>\n",
       "      <td>American IPA</td>\n",
       "      <td>16 oz.</td>\n",
       "      <td>6.2</td>\n",
       "      <td>99.0</td>\n",
       "    </tr>\n",
       "    <tr>\n",
       "      <th>2408</th>\n",
       "      <td>Brew Free! or Die IPA</td>\n",
       "      <td>21st Amendment Brewery</td>\n",
       "      <td>San Francisco, CA</td>\n",
       "      <td>American IPA</td>\n",
       "      <td>12 oz.</td>\n",
       "      <td>7.0</td>\n",
       "      <td>65.0</td>\n",
       "    </tr>\n",
       "    <tr>\n",
       "      <th>2412</th>\n",
       "      <td>GUBNA Imperial IPA</td>\n",
       "      <td>Oskar Blues Brewery</td>\n",
       "      <td>Longmont, CO</td>\n",
       "      <td>American Double / Imperial IPA</td>\n",
       "      <td>12 oz.</td>\n",
       "      <td>9.9</td>\n",
       "      <td>100.0</td>\n",
       "    </tr>\n",
       "    <tr>\n",
       "      <th>2414</th>\n",
       "      <td>Gordon Ale (2009)</td>\n",
       "      <td>Oskar Blues Brewery</td>\n",
       "      <td>Longmont, CO</td>\n",
       "      <td>American Double / Imperial IPA</td>\n",
       "      <td>12 oz.</td>\n",
       "      <td>8.7</td>\n",
       "      <td>85.0</td>\n",
       "    </tr>\n",
       "  </tbody>\n",
       "</table>\n",
       "<p>558 rows × 7 columns</p>\n",
       "</div>"
      ],
      "text/plain": [
       "                                   Beer                          Brewery  \\\n",
       "0                          Get Together                NorthGate Brewing   \n",
       "6                        Citra Ass Down        Against the Grain Brewery   \n",
       "14                          Rico Sauvin        Against the Grain Brewery   \n",
       "17                         Pile of Face        Against the Grain Brewery   \n",
       "24                       Habitus (2014)        Mike Hess Brewing Company   \n",
       "25                                Solis        Mike Hess Brewing Company   \n",
       "27                              Habitus        Mike Hess Brewing Company   \n",
       "33                             Villager          Fort Point Beer Company   \n",
       "38                               HopArt            COAST Brewing Company   \n",
       "39                             Boy King            COAST Brewing Company   \n",
       "43                               Rumble     Great Divide Brewing Company   \n",
       "45                                Lasso     Great Divide Brewing Company   \n",
       "48                            Titan IPA     Great Divide Brewing Company   \n",
       "55                             Nordskye               Blackrocks Brewery   \n",
       "59    98 Problems (Cuz A Hop Ain't One)           Perrin Brewing Company   \n",
       "61                       Grapefruit IPA           Perrin Brewing Company   \n",
       "62                         Train Hopper      Witch's Hat Brewing Company   \n",
       "71                             Thai.p.a               Bare Hands Brewery   \n",
       "78                             The 26th             Four Fathers Brewing   \n",
       "79                           The Gadget             Four Fathers Brewing   \n",
       "86                           Galaxyfest        450 North Brewing Company   \n",
       "87                            Citrafest        450 North Brewing Company   \n",
       "89                           Gone A-Rye              Cedar Creek Brewery   \n",
       "92                   Linnaeus Mango IPA                   Brewery Vivant   \n",
       "93                        Heavy Lifting        Boulevard Brewing Company   \n",
       "96                   Grapefruit Sculpin    Ballast Point Brewing Company   \n",
       "97                          Liberty Ale           Anchor Brewing Company   \n",
       "100                                Raja            Avery Brewing Company   \n",
       "104                          Galaxy IPA                Big Muddy Brewing   \n",
       "107               Mosaic Single Hop IPA              Lost Nation Brewing   \n",
       "...                                 ...                              ...   \n",
       "2245                      11th Hour IPA        Crow Peak Brewing Company   \n",
       "2248                   Happy Camper IPA         Santa Fe Brewing Company   \n",
       "2252                        Lucky U IPA             Breckenridge Brewery   \n",
       "2257                     The Corruption          DC Brau Brewing Company   \n",
       "2261                       Stowaway IPA           Baxter Brewing Company   \n",
       "2279                       Ice Pick Ale                Silverton Brewery   \n",
       "2281                    Cornerstone IPA  Rochester Mills Brewing Company   \n",
       "2288          Black Iron India Pale Ale     Grand Canyon Brewing Company   \n",
       "2299                 Harpoon IPA (2010)                  Harpoon Brewery   \n",
       "2306               Ranger IPA (Current)      New Belgium Brewing Company   \n",
       "2313               Avery India Pale Ale            Avery Brewing Company   \n",
       "2316                       Oasis (2010)        Tallgrass Brewing Company   \n",
       "2319                      Tallgrass IPA        Tallgrass Brewing Company   \n",
       "2326                 Third Eye Pale Ale       Steamworks Brewing Company   \n",
       "2330                    Double Haul IPA     Kettle House Brewing Company   \n",
       "2337             Upslope India Pale Ale          Upslope Brewing Company   \n",
       "2341                           Epic IPA          Mammoth Brewing Company   \n",
       "2349                    Modus Hoperandi              Ska Brewing Company   \n",
       "2365                    Snapperhead IPA          Butternuts Beer and Ale   \n",
       "2369              Ballz Deep Double IPA           7 Seas Brewing Company   \n",
       "2375             Gandhi-Bot Double IPA       New England Brewing Company   \n",
       "2379              Sea Hag IPA (Current)      New England Brewing Company   \n",
       "2382                        Caldera IPA          Caldera Brewing Company   \n",
       "2387                      Big Swell IPA             Maui Brewing Company   \n",
       "2394                            113 IPA          Sly Fox Brewing Company   \n",
       "2403                       Abrasive Ale            Surly Brewing Company   \n",
       "2406                            Furious            Surly Brewing Company   \n",
       "2408              Brew Free! or Die IPA           21st Amendment Brewery   \n",
       "2412                 GUBNA Imperial IPA              Oskar Blues Brewery   \n",
       "2414                  Gordon Ale (2009)              Oskar Blues Brewery   \n",
       "\n",
       "                 Location                           Style    Size  ABV   IBUs  \n",
       "0         Minneapolis, MN                    American IPA  16 oz.  4.5   50.0  \n",
       "6          Louisville, KY  American Double / Imperial IPA  16 oz.  8.0   68.0  \n",
       "14         Louisville, KY  American Double / Imperial IPA  16 oz.  7.6   68.0  \n",
       "17         Louisville, KY                    American IPA  16 oz.  6.0   65.0  \n",
       "24          San Diego, CA  American Double / Imperial IPA  16 oz.  8.0  100.0  \n",
       "25          San Diego, CA                    American IPA  16 oz.  7.5   85.0  \n",
       "27          San Diego, CA  American Double / Imperial IPA  16 oz.  8.0  100.0  \n",
       "33      San Francisco, CA                    American IPA  12 oz.  6.3   42.0  \n",
       "38         Charleston, SC                    American IPA  16 oz.  7.7    NaN  \n",
       "39         Charleston, SC  American Double / Imperial IPA  16 oz.  9.7    NaN  \n",
       "43             Denver, CO                    American IPA  12 oz.  7.1    NaN  \n",
       "45             Denver, CO                    American IPA  12 oz.  5.0    NaN  \n",
       "48             Denver, CO                    American IPA  12 oz.  7.1    NaN  \n",
       "55          Marquette, MI                    American IPA  12 oz.  4.8   47.0  \n",
       "59      Comstock Park, MI                    American IPA  12 oz.  6.5   65.0  \n",
       "61      Comstock Park, MI                    American IPA  12 oz.  5.0   35.0  \n",
       "62         South Lyon, MI                    American IPA  12 oz.  5.8   72.0  \n",
       "71            Granger, IN                    American IPA  16 oz.  7.0   46.0  \n",
       "78         Valparaiso, IN                    American IPA  16 oz.  6.0    NaN  \n",
       "79         Valparaiso, IN                    American IPA  16 oz.  6.4   90.0  \n",
       "86           Columbus, IN                    American IPA  16 oz.  6.5    NaN  \n",
       "87           Columbus, IN                    American IPA  16 oz.  5.0   45.0  \n",
       "89       Seven Points, TX  American Double / Imperial IPA  16 oz.  8.5   90.0  \n",
       "92       Grand Rapids, MI                    American IPA  16 oz.  6.0    NaN  \n",
       "93        Kansas City, MO                    American IPA  12 oz.  6.2   80.0  \n",
       "96          San Diego, CA                    American IPA  12 oz.  7.0    NaN  \n",
       "97      San Francisco, CA                    American IPA   12 oz  5.9    NaN  \n",
       "100           Boulder, CO  American Double / Imperial IPA  12 oz.  8.0    NaN  \n",
       "104       Murphysboro, IL                    American IPA  16 oz.  7.5   60.0  \n",
       "107    East Fairfield, VT                    American IPA  16 oz.  5.5    NaN  \n",
       "...                   ...                             ...     ...  ...    ...  \n",
       "2245        Spearfish, SD                    American IPA  12 oz.  6.0    NaN  \n",
       "2248         Santa Fe, NM                    American IPA  12 oz.  6.6    NaN  \n",
       "2252           Denver, CO                    American IPA  12 oz.  6.2   68.0  \n",
       "2257       Washington, DC                    American IPA  12 oz.  6.5   80.0  \n",
       "2261         Lewiston, ME                    American IPA  12 oz.  6.9   69.0  \n",
       "2279        Silverton, CO                    American IPA  12 oz.  6.8    NaN  \n",
       "2281        Rochester, MI                    American IPA  16 oz.  7.0    NaN  \n",
       "2288         Williams, AZ                    American IPA  12 oz.  NaN    NaN  \n",
       "2299           Boston, MA                    American IPA  12 oz.  5.9   42.0  \n",
       "2306     Fort Collins, CO                    American IPA  12 oz.  6.5   70.0  \n",
       "2313          Boulder, CO                    American IPA  12 oz.  6.3   69.0  \n",
       "2316        Manhattan, KS  American Double / Imperial IPA  16 oz.  7.2   93.0  \n",
       "2319        Manhattan, KS                    American IPA  16 oz.  6.3   60.0  \n",
       "2326          Durango, CO                    American IPA  12 oz.  6.5   65.0  \n",
       "2330         Missoula, MT                    American IPA  16 oz.  6.5   65.0  \n",
       "2337          Boulder, CO                    American IPA  12 oz.  7.2    NaN  \n",
       "2341    Mammoth Lakes, CA                    American IPA  12 oz.  6.5    NaN  \n",
       "2349          Durango, CO                    American IPA  12 oz.  6.8   65.0  \n",
       "2365    Garrattsville, NY                    American IPA  12 oz.  6.8    NaN  \n",
       "2369       Gig Harbor, WA  American Double / Imperial IPA  16 oz.  8.4   82.0  \n",
       "2375       Woodbridge, CT  American Double / Imperial IPA  16 oz.  8.8   85.0  \n",
       "2379       Woodbridge, CT                    American IPA  12 oz.  6.2    NaN  \n",
       "2382          Ashland, OR                    American IPA  12 oz.  6.1   94.0  \n",
       "2387          Lahaina, HI                    American IPA  12 oz.  6.2   65.0  \n",
       "2394        Pottstown, PA                    American IPA  12 oz.  7.0  113.0  \n",
       "2403  Brooklyn Center, MN  American Double / Imperial IPA  16 oz.  9.7  120.0  \n",
       "2406  Brooklyn Center, MN                    American IPA  16 oz.  6.2   99.0  \n",
       "2408    San Francisco, CA                    American IPA  12 oz.  7.0   65.0  \n",
       "2412         Longmont, CO  American Double / Imperial IPA  12 oz.  9.9  100.0  \n",
       "2414         Longmont, CO  American Double / Imperial IPA  12 oz.  8.7   85.0  \n",
       "\n",
       "[558 rows x 7 columns]"
      ]
     },
     "execution_count": 19,
     "metadata": {},
     "output_type": "execute_result"
    }
   ],
   "source": [
    "df[df.Style.str.contains('.* IPA', na = False)]"
   ]
  },
  {
   "cell_type": "markdown",
   "metadata": {},
   "source": [
    "IPAs are usually pretty hoppy and bitter. IBU stands for [International Bitterness Unit](http://www.thebrewenthusiast.com/ibus/), and while a lot of places like to brag about having the most bitter beer (it's an American thing!), IBUs don't necessary *mean anything*.\n",
    "\n",
    "Let's look at how different beers have different IBU measurements."
   ]
  },
  {
   "cell_type": "markdown",
   "metadata": {},
   "source": [
    "## Try to get the average IBU measurement across all beers"
   ]
  },
  {
   "cell_type": "code",
   "execution_count": 20,
   "metadata": {},
   "outputs": [
    {
     "data": {
      "text/plain": [
       "42.71316725978647"
      ]
     },
     "execution_count": 20,
     "metadata": {},
     "output_type": "execute_result"
    }
   ],
   "source": [
    "import numpy as np\n",
    "df['IBUs'] = df.IBUs.replace(['Does not apply'], np.nan)\n",
    "df['IBUs'] = df.IBUs.astype(float)\n",
    "df['IBUs'].mean()"
   ]
  },
  {
   "cell_type": "markdown",
   "metadata": {},
   "source": [
    "### Oh no, it doesn't work!\n",
    "\n",
    "It looks like some of those values *aren't numbers*. There are two ways to fix this:\n",
    "\n",
    "1. Do the `.replace` and `np.nan` thing we did in class. Then convert the column to a number. This is boring.\n",
    "2. When you're reading in your csv, there [is an option called `na_values`](http://pandas.pydata.org/pandas-docs/version/0.23/generated/pandas.read_csv.html). You can give it a list of **numbers or strings to count as `NaN`**. It's a lot easier than doing the `np.nan` thing, although you'll need to go add it up top and run all of your cells again.\n",
    "\n",
    "- *Tip: Make sure you're giving `na_values` a LIST, not just a string*\n",
    "\n",
    "### Now try to get the average IBUs again"
   ]
  },
  {
   "cell_type": "code",
   "execution_count": 21,
   "metadata": {},
   "outputs": [
    {
     "data": {
      "text/plain": [
       "42.71316725978647"
      ]
     },
     "execution_count": 21,
     "metadata": {},
     "output_type": "execute_result"
    }
   ],
   "source": [
    "df.IBUs.mean()"
   ]
  },
  {
   "cell_type": "markdown",
   "metadata": {},
   "source": [
    "## Draw the distribution of IBU measurements, but with *twenty* bins instead of the default of 10\n",
    "\n",
    "- *Tip: Every time I ask for a distribution, I'm looking for a histogram*\n",
    "- *Tip: Use the `?` to get all of the options for building a histogram*\n",
    "- *Tip: Make sure your `matplotlib` thing is set up right!*"
   ]
  },
  {
   "cell_type": "code",
   "execution_count": 22,
   "metadata": {},
   "outputs": [
    {
     "data": {
      "text/plain": [
       "<matplotlib.axes._subplots.AxesSubplot at 0x119e8ec18>"
      ]
     },
     "execution_count": 22,
     "metadata": {},
     "output_type": "execute_result"
    },
    {
     "data": {
      "image/png": "[encoded data removed]",
      "text/plain": [
       "<Figure size 432x288 with 1 Axes>"
      ]
     },
     "metadata": {
      "needs_background": "light"
     },
     "output_type": "display_data"
    }
   ],
   "source": [
    "df.IBUs.hist(bins = 20)"
   ]
  },
  {
   "cell_type": "markdown",
   "metadata": {},
   "source": [
    "## Hm, Interesting distribution. List all of the beers with IBUs above the 75th percentile\n",
    "\n",
    "- *Tip: There's a single that gives you the 25/50/75th percentile*\n",
    "- *Tip: You can just manually type the number when you list those beers*"
   ]
  },
  {
   "cell_type": "code",
   "execution_count": 28,
   "metadata": {},
   "outputs": [
    {
     "data": {
      "text/plain": [
       "6                          Citra Ass Down\n",
       "7                          London Balling\n",
       "14                            Rico Sauvin\n",
       "17                           Pile of Face\n",
       "21                             Excess IPL\n",
       "22                         Hoponius Union\n",
       "24                         Habitus (2014)\n",
       "25                                  Solis\n",
       "27                                Habitus\n",
       "46                    Yeti Imperial Stout\n",
       "59      98 Problems (Cuz A Hop Ain't One)\n",
       "62                           Train Hopper\n",
       "68                                   Csar\n",
       "69                         Saucy Intruder\n",
       "79                             The Gadget\n",
       "89                             Gone A-Rye\n",
       "93                          Heavy Lifting\n",
       "110                               Jah Mon\n",
       "123                        Flying Mouse 4\n",
       "149                        Citra Ass Down\n",
       "168                            Soul Doubt\n",
       "170                          Bimini Twist\n",
       "178                             Long Leaf\n",
       "182                        Double Duckpin\n",
       "186                            Hop A-Peel\n",
       "192                                Wobble\n",
       "218                      Hopkick Dropkick\n",
       "226                            Union Jack\n",
       "229                        India Pale Ale\n",
       "239                          Self Starter\n",
       "                      ...                \n",
       "2181                       Upstate I.P.W.\n",
       "2182                         Heady Topper\n",
       "2186                Hop Ottin' IPA (2011)\n",
       "2218                                  WET\n",
       "2225               Gandhi-Bot Double IPA \n",
       "2228                           Vortex IPA\n",
       "2229                 Hop Shock IPA (2010)\n",
       "2234             Snake Handler Double IPA\n",
       "2252                          Lucky U IPA\n",
       "2257                       The Corruption\n",
       "2261                         Stowaway IPA\n",
       "2267                        Back in Black\n",
       "2306                 Ranger IPA (Current)\n",
       "2313                 Avery India Pale Ale\n",
       "2316                         Oasis (2010)\n",
       "2326                   Third Eye Pale Ale\n",
       "2330                      Double Haul IPA\n",
       "2349                      Modus Hoperandi\n",
       "2369                Ballz Deep Double IPA\n",
       "2375               Gandhi-Bot Double IPA \n",
       "2382                          Caldera IPA\n",
       "2387                        Big Swell IPA\n",
       "2394                              113 IPA\n",
       "2403                         Abrasive Ale\n",
       "2406                              Furious\n",
       "2408                Brew Free! or Die IPA\n",
       "2410              Ten Fidy Imperial Stout\n",
       "2412                   GUBNA Imperial IPA\n",
       "2414                    Gordon Ale (2009)\n",
       "2415                      Dale's Pale Ale\n",
       "Name: Beer, Length: 346, dtype: object"
      ]
     },
     "execution_count": 28,
     "metadata": {},
     "output_type": "execute_result"
    }
   ],
   "source": [
    "df.Beer[df.IBUs > df.IBUs.quantile(.75)]"
   ]
  },
  {
   "cell_type": "code",
   "execution_count": 27,
   "metadata": {},
   "outputs": [
    {
     "data": {
      "text/plain": [
       "64.0"
      ]
     },
     "execution_count": 27,
     "metadata": {},
     "output_type": "execute_result"
    }
   ],
   "source": []
  },
  {
   "cell_type": "markdown",
   "metadata": {},
   "source": [
    "## List all of the beers with IBUs below the 25th percentile"
   ]
  },
  {
   "cell_type": "code",
   "execution_count": 29,
   "metadata": {},
   "outputs": [
    {
     "data": {
      "text/plain": [
       "2                                   Wall's End\n",
       "12                                    Sho'nuff\n",
       "13                                 Bloody Show\n",
       "18                              The Brown Note\n",
       "19                                 House Lager\n",
       "20                                Leisure Time\n",
       "30                                        Park\n",
       "31                                   Westfalia\n",
       "32                                         KSA\n",
       "54                                     Sparkle\n",
       "56                                Hotbox Brown\n",
       "57                                        Gold\n",
       "66                                  Cafe Leche\n",
       "67                      Damascene Apricot Sour\n",
       "90                                 Sex Panther\n",
       "102                             Vanilla Porter\n",
       "105                                       Gose\n",
       "106                            Vermont Pilsner\n",
       "134                        Ginger Peach Saison\n",
       "139                              Weissenheimer\n",
       "144                      Passion Fruit Prussia\n",
       "145                                  Send Help\n",
       "150                             The Brown Note\n",
       "159                                  Daft Funk\n",
       "165                           Bat Outta Helles\n",
       "167                                    Rye Wit\n",
       "169                         Yo Soy Un Berliner\n",
       "173                   Farmer's Daughter Blonde\n",
       "177                                  Honey Rye\n",
       "179                        Honey Badger Blonde\n",
       "                         ...                  \n",
       "2193                                        #9\n",
       "2232                   Narragansett Fest Lager\n",
       "2233                                Mana Wheat\n",
       "2241                  SanTan HefeWeizen (2010)\n",
       "2268               Flaming Damsel Lager (2010)\n",
       "2275    Black Star Double Hopped Golden Lager \n",
       "2289      Point Nude Beach Summer Wheat (2010)\n",
       "2291                       Point Amber Classic\n",
       "2292                       Point Special Lager\n",
       "2296              Morning Wood Wheat (Current)\n",
       "2298                           O'Fallon Wheach\n",
       "2301                Epicenter Amber Ale (2010)\n",
       "2312                              White Rascal\n",
       "2314                         Ellie’s Brown Ale\n",
       "2315                         Köld Lager (2010)\n",
       "2318                      Buffalo Sweat (2010)\n",
       "2324                           Colorado Kölsch\n",
       "2331                     Cold Smoke Scotch Ale\n",
       "2333                             Avalanche Ale\n",
       "2334                 Haywire Hefeweizen (2010)\n",
       "2338                    Boont Amber Ale (2011)\n",
       "2339                    Summer Solstice (2011)\n",
       "2345                 Fat Tire Amber Ale (2008)\n",
       "2361                        Sunlight Cream Ale\n",
       "2363                     Schlafly Summer Lager\n",
       "2372                          Bombshell Blonde\n",
       "2385                       Bikini Blonde Lager\n",
       "2396                          Royal Weisse Ale\n",
       "2404                                      Hell\n",
       "2409             Hell or High Watermelon Wheat\n",
       "Name: Beer, Length: 338, dtype: object"
      ]
     },
     "execution_count": 29,
     "metadata": {},
     "output_type": "execute_result"
    }
   ],
   "source": [
    "df.Beer[df.IBUs < df.IBUs.quantile(.25)]"
   ]
  },
  {
   "cell_type": "markdown",
   "metadata": {},
   "source": [
    "## List the median IBUs of each type of beer. Graph it.\n",
    "\n",
    "Put the highest at the top, and the missing ones at the bottom.\n",
    "\n",
    "- Tip: Look at the options for `sort_values` to figure out the `NaN` thing. The `?` probably won't help you here."
   ]
  },
  {
   "cell_type": "code",
   "execution_count": 47,
   "metadata": {},
   "outputs": [
    {
     "data": {
      "text/plain": [
       "Style\n",
       "Berliner Weissbier                      8.0\n",
       "American Adjunct Lager                  9.0\n",
       "Gose                                   10.0\n",
       "Light Lager                            12.0\n",
       "Hefeweizen                             15.0\n",
       "Herbed / Spiced Beer                   15.0\n",
       "Fruit / Vegetable Beer                 15.5\n",
       "Witbier                                15.5\n",
       "Other                                  16.0\n",
       "Dunkelweizen                           16.0\n",
       "English Pale Mild Ale                  16.0\n",
       "Munich Helles Lager                    18.0\n",
       "American Pale Lager                    18.5\n",
       "Cream Ale                              20.0\n",
       "Keller Bier / Zwickel Bier             20.0\n",
       "Pumpkin Ale                            20.0\n",
       "Roggenbier                             20.0\n",
       "American Pale Wheat Ale                20.0\n",
       "American Blonde Ale                    20.0\n",
       "English Brown Ale                      20.5\n",
       "Munich Dunkel Lager                    21.0\n",
       "Dubbel                                 21.0\n",
       "Radler                                 21.0\n",
       "Belgian Pale Ale                       21.0\n",
       "American Pilsner                       21.5\n",
       "Euro Dark Lager                        22.0\n",
       "Euro Pale Lager                        22.0\n",
       "Kölsch                                 22.0\n",
       "Winter Warmer                          22.0\n",
       "Abbey Single Ale                       22.0\n",
       "                                       ... \n",
       "California Common / Steam Beer         41.0\n",
       "Extra Special / Strong Bitter (ESB)    41.0\n",
       "American Pale Ale (APA)                44.0\n",
       "American White IPA                     45.0\n",
       "English India Pale Ale (IPA)           47.0\n",
       "American Double / Imperial Stout       51.0\n",
       "English Strong Ale                     52.0\n",
       "Baltic Porter                          52.0\n",
       "Rye Beer                               57.0\n",
       "English Barleywine                     60.0\n",
       "Belgian IPA                            61.0\n",
       "American India Pale Lager              65.0\n",
       "English Stout                          66.0\n",
       "American IPA                           69.0\n",
       "American Strong Ale                    70.0\n",
       "Belgian Strong Dark Ale                72.0\n",
       "American Black Ale                     73.0\n",
       "American Double / Imperial Pilsner     85.0\n",
       "American Double / Imperial IPA         91.0\n",
       "Russian Imperial Stout                 94.0\n",
       "American Barleywine                    96.0\n",
       "American Malt Liquor                    NaN\n",
       "Braggot                                 NaN\n",
       "Cider                                   NaN\n",
       "Flanders Red Ale                        NaN\n",
       "Kristalweizen                           NaN\n",
       "Low Alcohol Beer                        NaN\n",
       "Mead                                    NaN\n",
       "Rauchbier                               NaN\n",
       "Shandy                                  NaN\n",
       "Name: IBUs, Length: 99, dtype: float64"
      ]
     },
     "execution_count": 47,
     "metadata": {},
     "output_type": "execute_result"
    }
   ],
   "source": [
    "df.groupby(by = 'Style').IBUs.median().sort_values(na_position='last')"
   ]
  },
  {
   "cell_type": "code",
   "execution_count": null,
   "metadata": {},
   "outputs": [],
   "source": []
  },
  {
   "cell_type": "code",
   "execution_count": 50,
   "metadata": {},
   "outputs": [
    {
     "data": {
      "text/plain": [
       "<matplotlib.axes._subplots.AxesSubplot at 0x11eb89160>"
      ]
     },
     "execution_count": 50,
     "metadata": {},
     "output_type": "execute_result"
    },
    {
     "data": {
      "image/png": "[encoded data removed]",
      "text/plain": [
       "<Figure size 432x288 with 1 Axes>"
      ]
     },
     "metadata": {
      "needs_background": "light"
     },
     "output_type": "display_data"
    }
   ],
   "source": [
    "df.groupby(by = 'Style').IBUs.median().sort_values(na_position='first').plot(kind = 'barh')"
   ]
  },
  {
   "cell_type": "markdown",
   "metadata": {},
   "source": [
    "## Hmmmm, it looks like they are generally different styles. What are the most common 5 styles of high-IBU beer vs. low-IBU beer?\n",
    "\n",
    "- *Tip: You'll want to think about it in three pieces - filtering to only find the specific beers beers, then finding out what the most common styles are, then getting the top 5.*\n",
    "- *Tip: You CANNOT do this in one command. It's going to be one command for the high and one for the low.*\n",
    "- *Tip: \"High IBU\" means higher than 75th percentile, \"Low IBU\" is under 25th percentile*"
   ]
  },
  {
   "cell_type": "code",
   "execution_count": 65,
   "metadata": {},
   "outputs": [
    {
     "data": {
      "text/plain": [
       "American IPA                      195\n",
       "American Double / Imperial IPA     72\n",
       "American Pale Ale (APA)            18\n",
       "American Black Ale                 15\n",
       "American Strong Ale                 9\n",
       "Name: Style, dtype: int64"
      ]
     },
     "execution_count": 65,
     "metadata": {},
     "output_type": "execute_result"
    }
   ],
   "source": [
    "High_IBU = df[df.IBUs > df.IBUs.quantile(.75)]\n",
    "High_IBU.Style.value_counts().head(5)"
   ]
  },
  {
   "cell_type": "code",
   "execution_count": 66,
   "metadata": {},
   "outputs": [
    {
     "data": {
      "text/plain": [
       "American Pale Wheat Ale    43\n",
       "American Blonde Ale        36\n",
       "Fruit / Vegetable Beer     28\n",
       "Hefeweizen                 21\n",
       "Witbier                    20\n",
       "Name: Style, dtype: int64"
      ]
     },
     "execution_count": 66,
     "metadata": {},
     "output_type": "execute_result"
    }
   ],
   "source": [
    "Low_IBU = df[df.IBUs < df.IBUs.quantile(.25)]\n",
    "Low_IBU.Style.value_counts().head(5)"
   ]
  },
  {
   "cell_type": "code",
   "execution_count": null,
   "metadata": {},
   "outputs": [],
   "source": []
  },
  {
   "cell_type": "markdown",
   "metadata": {},
   "source": [
    "## Get the average IBU of \"Witbier\", \"Hefeweizen\" and \"American Pale Wheat Ale\" styles\n",
    "\n",
    "I'm counting these as wheat beers. If you see any other wheat beer categories, feel free to include them. I want ONE measurement and ONE graph, not three separate ones. And 20 to 30 bins in the histogram, please.\n",
    "\n",
    "- *Tip: I hope that `isin` is in your toolbox*"
   ]
  },
  {
   "cell_type": "code",
   "execution_count": 88,
   "metadata": {},
   "outputs": [
    {
     "data": {
      "text/plain": [
       "16.208333333333332"
      ]
     },
     "execution_count": 88,
     "metadata": {},
     "output_type": "execute_result"
    }
   ],
   "source": [
    "df[df.Style == 'Witbier'].IBUs.mean()"
   ]
  },
  {
   "cell_type": "code",
   "execution_count": 89,
   "metadata": {},
   "outputs": [
    {
     "data": {
      "text/plain": [
       "17.59259259259259"
      ]
     },
     "execution_count": 89,
     "metadata": {},
     "output_type": "execute_result"
    }
   ],
   "source": [
    "df[df.Style == 'Hefeweizen'].IBUs.mean()"
   ]
  },
  {
   "cell_type": "code",
   "execution_count": 90,
   "metadata": {},
   "outputs": [
    {
     "data": {
      "text/plain": [
       "20.688524590163933"
      ]
     },
     "execution_count": 90,
     "metadata": {},
     "output_type": "execute_result"
    }
   ],
   "source": [
    "df[df.Style == 'American Pale Wheat Ale'].IBUs.mean()"
   ]
  },
  {
   "cell_type": "markdown",
   "metadata": {},
   "source": [
    "## Draw a histogram of the IBUs of those beers"
   ]
  },
  {
   "cell_type": "code",
   "execution_count": 87,
   "metadata": {},
   "outputs": [
    {
     "data": {
      "text/plain": [
       "<matplotlib.axes._subplots.AxesSubplot at 0x11f0abc88>"
      ]
     },
     "execution_count": 87,
     "metadata": {},
     "output_type": "execute_result"
    },
    {
     "data": {
      "image/png": "[encoded data removed]",
      "text/plain": [
       "<Figure size 432x288 with 1 Axes>"
      ]
     },
     "metadata": {
      "needs_background": "light"
     },
     "output_type": "display_data"
    }
   ],
   "source": [
    "df[df['Style'].isin(['Witbier', 'Hefeweizen','American Pale Wheat Ale'])].IBUs.hist(bins = 25)"
   ]
  },
  {
   "cell_type": "code",
   "execution_count": null,
   "metadata": {},
   "outputs": [],
   "source": []
  },
  {
   "cell_type": "markdown",
   "metadata": {},
   "source": [
    "## Get the average IBU of any style with \"IPA\" in it (also draw a histogram)"
   ]
  },
  {
   "cell_type": "code",
   "execution_count": 95,
   "metadata": {},
   "outputs": [
    {
     "data": {
      "text/plain": [
       "71.94897959183673"
      ]
     },
     "execution_count": 95,
     "metadata": {},
     "output_type": "execute_result"
    }
   ],
   "source": [
    "df[df.Style.str.contains('IPA', na = False)].IBUs.mean()"
   ]
  },
  {
   "cell_type": "code",
   "execution_count": 96,
   "metadata": {},
   "outputs": [
    {
     "data": {
      "text/plain": [
       "<matplotlib.axes._subplots.AxesSubplot at 0x11f5b6588>"
      ]
     },
     "execution_count": 96,
     "metadata": {},
     "output_type": "execute_result"
    },
    {
     "data": {
      "image/png": "[encoded data removed]",
      "text/plain": [
       "<Figure size 432x288 with 1 Axes>"
      ]
     },
     "metadata": {
      "needs_background": "light"
     },
     "output_type": "display_data"
    }
   ],
   "source": [
    "df[df.Style.str.contains('IPA', na = False)].IBUs.hist()"
   ]
  },
  {
   "cell_type": "markdown",
   "metadata": {},
   "source": [
    "## Plot those two histograms on top of one another\n",
    "\n",
    "To plot two plots on top of one another, you do two steps.\n",
    "\n",
    "1. First, you make a plot using `plot` or `hist`, and you save it into a variable called `ax`.\n",
    "2. You draw your second graph using `plot` or `hist`, and send `ax=ax` to it as a parameter.\n",
    "\n",
    "It would look something like this:\n",
    "\n",
    "```python\n",
    "ax = df.plot(....)\n",
    "df.plot(ax=ax, ....)\n",
    "``` \n",
    "\n",
    "(...except totally different)"
   ]
  },
  {
   "cell_type": "code",
   "execution_count": 120,
   "metadata": {},
   "outputs": [
    {
     "data": {
      "text/plain": [
       "<matplotlib.axes._subplots.AxesSubplot at 0x120271828>"
      ]
     },
     "execution_count": 120,
     "metadata": {},
     "output_type": "execute_result"
    },
    {
     "data": {
      "image/png": "[encoded data removed]",
      "text/plain": [
       "<Figure size 432x288 with 1 Axes>"
      ]
     },
     "metadata": {
      "needs_background": "light"
     },
     "output_type": "display_data"
    }
   ],
   "source": [
    "ax = df[df['Style'].isin(['Witbier', 'Hefeweizen','American Pale Wheat Ale'])].IBUs.hist(bins = 25)\n",
    "df[df.Style.str.contains('IPA', na = False)].IBUs.hist(ax=ax, bins = 25, alpha = 0.5)\n"
   ]
  },
  {
   "cell_type": "markdown",
   "metadata": {},
   "source": [
    "## Compare the ABV of wheat beers vs. IPAs : their IBUs were really different, but how about their alcohol percentage?\n",
    "\n",
    "Wheat beers might include witbier, hefeweizen, American Pale Wheat Ale, and anything else you think is wheaty. IPAs probably have \"IPA\" in their name."
   ]
  },
  {
   "cell_type": "code",
   "execution_count": 122,
   "metadata": {},
   "outputs": [
    {
     "data": {
      "text/plain": [
       "<matplotlib.axes._subplots.AxesSubplot at 0x1203d2c88>"
      ]
     },
     "execution_count": 122,
     "metadata": {},
     "output_type": "execute_result"
    },
    {
     "data": {
      "image/png": "[encoded data removed]",
      "text/plain": [
       "<Figure size 432x288 with 1 Axes>"
      ]
     },
     "metadata": {
      "needs_background": "light"
     },
     "output_type": "display_data"
    }
   ],
   "source": [
    "df[df['Style'].isin(['Witbier', 'Hefeweizen','American Pale Wheat Ale'])].ABV.hist(bins = 25)"
   ]
  },
  {
   "cell_type": "code",
   "execution_count": 124,
   "metadata": {},
   "outputs": [
    {
     "data": {
      "text/plain": [
       "<matplotlib.axes._subplots.AxesSubplot at 0x11f948710>"
      ]
     },
     "execution_count": 124,
     "metadata": {},
     "output_type": "execute_result"
    },
    {
     "data": {
      "image/png": "[encoded data removed]",
      "text/plain": [
       "<Figure size 432x288 with 1 Axes>"
      ]
     },
     "metadata": {
      "needs_background": "light"
     },
     "output_type": "display_data"
    }
   ],
   "source": [
    "df[df.Style.str.contains('IPA', na = False)].ABV.hist()"
   ]
  },
  {
   "cell_type": "code",
   "execution_count": 125,
   "metadata": {},
   "outputs": [
    {
     "data": {
      "text/plain": [
       "<matplotlib.axes._subplots.AxesSubplot at 0x1204e70b8>"
      ]
     },
     "execution_count": 125,
     "metadata": {},
     "output_type": "execute_result"
    },
    {
     "data": {
      "image/png": "[encoded data removed]",
      "text/plain": [
       "<Figure size 432x288 with 1 Axes>"
      ]
     },
     "metadata": {
      "needs_background": "light"
     },
     "output_type": "display_data"
    }
   ],
   "source": [
    "ax = df[df['Style'].isin(['Witbier', 'Hefeweizen','American Pale Wheat Ale'])].ABV.hist(bins = 25)\n",
    "df[df.Style.str.contains('IPA', na = False)].ABV.hist(ax=ax, bins = 25, alpha = 0.5)\n"
   ]
  },
  {
   "cell_type": "markdown",
   "metadata": {
    "collapsed": true
   },
   "source": [
    "## Good work!\n",
    "\n",
    "If you made it this far you deserve a drink."
   ]
  },
  {
   "cell_type": "code",
   "execution_count": 126,
   "metadata": {},
   "outputs": [],
   "source": [
    "# Yeah!"
   ]
  }
 ],
 "metadata": {
  "kernelspec": {
   "display_name": "Python 3",
   "language": "python",
   "name": "python3"
  },
  "language_info": {
   "codemirror_mode": {
    "name": "ipython",
    "version": 3
   },
   "file_extension": ".py",
   "mimetype": "text/x-python",
   "name": "python",
   "nbconvert_exporter": "python",
   "pygments_lexer": "ipython3",
   "version": "3.7.3"
  }
 },
 "nbformat": 4,
 "nbformat_minor": 2
}
